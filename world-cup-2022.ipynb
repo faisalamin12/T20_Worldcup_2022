{
 "cells": [
  {
   "cell_type": "markdown",
   "id": "67045805",
   "metadata": {
    "papermill": {
     "duration": 0.040341,
     "end_time": "2021-11-15T11:59:53.196335",
     "exception": false,
     "start_time": "2021-11-15T11:59:53.155994",
     "status": "completed"
    },
    "tags": []
   },
   "source": [
    "#  ICC-t20_WorldCup2021"
   ]
  },
  {
   "cell_type": "code",
   "execution_count": 1,
   "id": "c0b5473e",
   "metadata": {
    "execution": {
     "iopub.execute_input": "2021-11-15T11:59:53.279293Z",
     "iopub.status.busy": "2021-11-15T11:59:53.273970Z",
     "iopub.status.idle": "2021-11-15T11:59:54.336630Z",
     "shell.execute_reply": "2021-11-15T11:59:54.335888Z",
     "shell.execute_reply.started": "2021-11-15T11:58:45.334013Z"
    },
    "papermill": {
     "duration": 1.103138,
     "end_time": "2021-11-15T11:59:54.336829",
     "exception": false,
     "start_time": "2021-11-15T11:59:53.233691",
     "status": "completed"
    },
    "tags": []
   },
   "outputs": [],
   "source": [
    "#import library\n",
    "import numpy as np\n",
    "import pandas as pd\n",
    "import seaborn as sns\n",
    "import math\n",
    "import matplotlib.pyplot as plt\n",
    "from sklearn.model_selection import train_test_split, cross_val_score\n",
    "from sklearn.naive_bayes import GaussianNB\n",
    "from sklearn import metrics"
   ]
  },
  {
   "cell_type": "markdown",
   "id": "d948c64c",
   "metadata": {
    "papermill": {
     "duration": 0.037861,
     "end_time": "2021-11-15T11:59:54.414098",
     "exception": false,
     "start_time": "2021-11-15T11:59:54.376237",
     "status": "completed"
    },
    "tags": []
   },
   "source": [
    "# Data Extraction"
   ]
  },
  {
   "cell_type": "code",
   "execution_count": 2,
   "id": "79a68dc4",
   "metadata": {
    "execution": {
     "iopub.execute_input": "2021-11-15T11:59:54.495654Z",
     "iopub.status.busy": "2021-11-15T11:59:54.494885Z",
     "iopub.status.idle": "2021-11-15T11:59:54.511646Z",
     "shell.execute_reply": "2021-11-15T11:59:54.512194Z",
     "shell.execute_reply.started": "2021-11-15T11:58:45.340505Z"
    },
    "papermill": {
     "duration": 0.059954,
     "end_time": "2021-11-15T11:59:54.512386",
     "exception": false,
     "start_time": "2021-11-15T11:59:54.452432",
     "status": "completed"
    },
    "tags": []
   },
   "outputs": [],
   "source": [
    "df = pd.read_csv('../input/icct20-worldcup2021/kaggle_data.csv')"
   ]
  },
  {
   "cell_type": "code",
   "execution_count": 3,
   "id": "cbfc60ed",
   "metadata": {
    "execution": {
     "iopub.execute_input": "2021-11-15T11:59:54.592233Z",
     "iopub.status.busy": "2021-11-15T11:59:54.591561Z",
     "iopub.status.idle": "2021-11-15T11:59:54.598959Z",
     "shell.execute_reply": "2021-11-15T11:59:54.599478Z",
     "shell.execute_reply.started": "2021-11-15T11:58:45.365651Z"
    },
    "papermill": {
     "duration": 0.049236,
     "end_time": "2021-11-15T11:59:54.599671",
     "exception": false,
     "start_time": "2021-11-15T11:59:54.550435",
     "status": "completed"
    },
    "tags": []
   },
   "outputs": [
    {
     "data": {
      "text/plain": [
       "(33, 24)"
      ]
     },
     "execution_count": 3,
     "metadata": {},
     "output_type": "execute_result"
    }
   ],
   "source": [
    "df.shape"
   ]
  },
  {
   "cell_type": "code",
   "execution_count": 4,
   "id": "fd32afe0",
   "metadata": {
    "execution": {
     "iopub.execute_input": "2021-11-15T11:59:54.760128Z",
     "iopub.status.busy": "2021-11-15T11:59:54.759264Z",
     "iopub.status.idle": "2021-11-15T11:59:54.793562Z",
     "shell.execute_reply": "2021-11-15T11:59:54.794126Z",
     "shell.execute_reply.started": "2021-11-15T11:58:45.373396Z"
    },
    "papermill": {
     "duration": 0.074814,
     "end_time": "2021-11-15T11:59:54.794331",
     "exception": false,
     "start_time": "2021-11-15T11:59:54.719517",
     "status": "completed"
    },
    "tags": []
   },
   "outputs": [
    {
     "data": {
      "text/html": [
       "<div>\n",
       "<style scoped>\n",
       "    .dataframe tbody tr th:only-of-type {\n",
       "        vertical-align: middle;\n",
       "    }\n",
       "\n",
       "    .dataframe tbody tr th {\n",
       "        vertical-align: top;\n",
       "    }\n",
       "\n",
       "    .dataframe thead th {\n",
       "        text-align: right;\n",
       "    }\n",
       "</style>\n",
       "<table border=\"1\" class=\"dataframe\">\n",
       "  <thead>\n",
       "    <tr style=\"text-align: right;\">\n",
       "      <th></th>\n",
       "      <th>Unnamed: 0</th>\n",
       "      <th>team_1</th>\n",
       "      <th>team_2</th>\n",
       "      <th>stage</th>\n",
       "      <th>Winner_toss</th>\n",
       "      <th>Toss_descision</th>\n",
       "      <th>time</th>\n",
       "      <th>venue</th>\n",
       "      <th>avg_temperature</th>\n",
       "      <th>best_bowler</th>\n",
       "      <th>...</th>\n",
       "      <th>best_bowler_country</th>\n",
       "      <th>best_batter</th>\n",
       "      <th>batting_hand</th>\n",
       "      <th>high_indvidual_scores</th>\n",
       "      <th>strike_rate</th>\n",
       "      <th>best_batter_team</th>\n",
       "      <th>target</th>\n",
       "      <th>target_achieved</th>\n",
       "      <th>Player_of_the_match</th>\n",
       "      <th>Winner</th>\n",
       "    </tr>\n",
       "  </thead>\n",
       "  <tbody>\n",
       "    <tr>\n",
       "      <th>0</th>\n",
       "      <td>Match_1</td>\n",
       "      <td>Australia</td>\n",
       "      <td>SouthAfrica</td>\n",
       "      <td>Group_stage</td>\n",
       "      <td>Australia</td>\n",
       "      <td>Fielding</td>\n",
       "      <td>afternoon</td>\n",
       "      <td>Abu_Dhabi</td>\n",
       "      <td>30</td>\n",
       "      <td>Josh_Hazlewood</td>\n",
       "      <td>...</td>\n",
       "      <td>Australia</td>\n",
       "      <td>Aiden_Markram</td>\n",
       "      <td>Right</td>\n",
       "      <td>40</td>\n",
       "      <td>111.10</td>\n",
       "      <td>SouthAfrica</td>\n",
       "      <td>119</td>\n",
       "      <td>1</td>\n",
       "      <td>Josh_Hazlewood</td>\n",
       "      <td>Australia</td>\n",
       "    </tr>\n",
       "    <tr>\n",
       "      <th>1</th>\n",
       "      <td>Match_2</td>\n",
       "      <td>England</td>\n",
       "      <td>Windies</td>\n",
       "      <td>Group_stage</td>\n",
       "      <td>England</td>\n",
       "      <td>Fielding</td>\n",
       "      <td>evening</td>\n",
       "      <td>Dubai</td>\n",
       "      <td>33</td>\n",
       "      <td>Adil_Rashid</td>\n",
       "      <td>...</td>\n",
       "      <td>England</td>\n",
       "      <td>Jos_Buttler</td>\n",
       "      <td>Right</td>\n",
       "      <td>24</td>\n",
       "      <td>109.10</td>\n",
       "      <td>England</td>\n",
       "      <td>56</td>\n",
       "      <td>1</td>\n",
       "      <td>Moeen_Ali</td>\n",
       "      <td>England</td>\n",
       "    </tr>\n",
       "    <tr>\n",
       "      <th>2</th>\n",
       "      <td>Match_3</td>\n",
       "      <td>Srilanka</td>\n",
       "      <td>Bangladesh</td>\n",
       "      <td>Group_stage</td>\n",
       "      <td>Srilanka</td>\n",
       "      <td>Fielding</td>\n",
       "      <td>afternoon</td>\n",
       "      <td>Sharjah</td>\n",
       "      <td>34</td>\n",
       "      <td>Shakib_al_Hassan</td>\n",
       "      <td>...</td>\n",
       "      <td>Bangladesh</td>\n",
       "      <td>Charith_Asalanka</td>\n",
       "      <td>Left</td>\n",
       "      <td>80</td>\n",
       "      <td>163.20</td>\n",
       "      <td>Srilanka</td>\n",
       "      <td>172</td>\n",
       "      <td>1</td>\n",
       "      <td>Charith_Asalanka</td>\n",
       "      <td>Srilanka</td>\n",
       "    </tr>\n",
       "    <tr>\n",
       "      <th>3</th>\n",
       "      <td>Match_4</td>\n",
       "      <td>Pakistan</td>\n",
       "      <td>India</td>\n",
       "      <td>Group_stage</td>\n",
       "      <td>Pakistan</td>\n",
       "      <td>Fielding</td>\n",
       "      <td>evening</td>\n",
       "      <td>Dubai</td>\n",
       "      <td>34</td>\n",
       "      <td>Shaheen_shah</td>\n",
       "      <td>...</td>\n",
       "      <td>Pakistan</td>\n",
       "      <td>Muhammad_Rizwan</td>\n",
       "      <td>Right</td>\n",
       "      <td>79</td>\n",
       "      <td>143.60</td>\n",
       "      <td>Pakistan</td>\n",
       "      <td>152</td>\n",
       "      <td>1</td>\n",
       "      <td>Shaheen_shah</td>\n",
       "      <td>Pakistan</td>\n",
       "    </tr>\n",
       "    <tr>\n",
       "      <th>4</th>\n",
       "      <td>Match_5</td>\n",
       "      <td>Afghanistan</td>\n",
       "      <td>Scotland</td>\n",
       "      <td>Group_stage</td>\n",
       "      <td>Afghanistan</td>\n",
       "      <td>Batting</td>\n",
       "      <td>evening</td>\n",
       "      <td>Sharjah</td>\n",
       "      <td>33</td>\n",
       "      <td>Mujeeb_ur_Rehman</td>\n",
       "      <td>...</td>\n",
       "      <td>Afghanistan</td>\n",
       "      <td>Najibullah_Zadran</td>\n",
       "      <td>Left</td>\n",
       "      <td>59</td>\n",
       "      <td>173.53</td>\n",
       "      <td>Afghanistan</td>\n",
       "      <td>191</td>\n",
       "      <td>0</td>\n",
       "      <td>Mujeeb_ur_Rehman</td>\n",
       "      <td>Afghanistan</td>\n",
       "    </tr>\n",
       "  </tbody>\n",
       "</table>\n",
       "<p>5 rows × 24 columns</p>\n",
       "</div>"
      ],
      "text/plain": [
       "  Unnamed: 0       team_1       team_2        stage  Winner_toss  \\\n",
       "0    Match_1    Australia  SouthAfrica  Group_stage    Australia   \n",
       "1    Match_2      England      Windies  Group_stage      England   \n",
       "2    Match_3     Srilanka   Bangladesh  Group_stage     Srilanka   \n",
       "3    Match_4     Pakistan        India  Group_stage     Pakistan   \n",
       "4    Match_5  Afghanistan     Scotland  Group_stage  Afghanistan   \n",
       "\n",
       "  Toss_descision       time      venue  avg_temperature       best_bowler  \\\n",
       "0       Fielding  afternoon  Abu_Dhabi               30    Josh_Hazlewood   \n",
       "1       Fielding    evening      Dubai               33       Adil_Rashid   \n",
       "2       Fielding  afternoon    Sharjah               34  Shakib_al_Hassan   \n",
       "3       Fielding    evening      Dubai               34      Shaheen_shah   \n",
       "4        Batting    evening    Sharjah               33  Mujeeb_ur_Rehman   \n",
       "\n",
       "   ... best_bowler_country        best_batter  batting_hand  \\\n",
       "0  ...           Australia      Aiden_Markram         Right   \n",
       "1  ...             England        Jos_Buttler         Right   \n",
       "2  ...          Bangladesh   Charith_Asalanka          Left   \n",
       "3  ...            Pakistan    Muhammad_Rizwan         Right   \n",
       "4  ...         Afghanistan  Najibullah_Zadran          Left   \n",
       "\n",
       "   high_indvidual_scores strike_rate best_batter_team target  target_achieved  \\\n",
       "0                     40      111.10      SouthAfrica    119                1   \n",
       "1                     24      109.10          England     56                1   \n",
       "2                     80      163.20         Srilanka    172                1   \n",
       "3                     79      143.60         Pakistan    152                1   \n",
       "4                     59      173.53      Afghanistan    191                0   \n",
       "\n",
       "   Player_of_the_match       Winner  \n",
       "0       Josh_Hazlewood    Australia  \n",
       "1            Moeen_Ali      England  \n",
       "2     Charith_Asalanka     Srilanka  \n",
       "3         Shaheen_shah     Pakistan  \n",
       "4     Mujeeb_ur_Rehman  Afghanistan  \n",
       "\n",
       "[5 rows x 24 columns]"
      ]
     },
     "execution_count": 4,
     "metadata": {},
     "output_type": "execute_result"
    }
   ],
   "source": [
    "df.head()"
   ]
  },
  {
   "cell_type": "code",
   "execution_count": 5,
   "id": "c0224f2a",
   "metadata": {
    "execution": {
     "iopub.execute_input": "2021-11-15T11:59:54.875118Z",
     "iopub.status.busy": "2021-11-15T11:59:54.874420Z",
     "iopub.status.idle": "2021-11-15T11:59:54.902328Z",
     "shell.execute_reply": "2021-11-15T11:59:54.902826Z",
     "shell.execute_reply.started": "2021-11-15T11:58:45.409152Z"
    },
    "papermill": {
     "duration": 0.070939,
     "end_time": "2021-11-15T11:59:54.903022",
     "exception": false,
     "start_time": "2021-11-15T11:59:54.832083",
     "status": "completed"
    },
    "tags": []
   },
   "outputs": [
    {
     "data": {
      "text/html": [
       "<div>\n",
       "<style scoped>\n",
       "    .dataframe tbody tr th:only-of-type {\n",
       "        vertical-align: middle;\n",
       "    }\n",
       "\n",
       "    .dataframe tbody tr th {\n",
       "        vertical-align: top;\n",
       "    }\n",
       "\n",
       "    .dataframe thead th {\n",
       "        text-align: right;\n",
       "    }\n",
       "</style>\n",
       "<table border=\"1\" class=\"dataframe\">\n",
       "  <thead>\n",
       "    <tr style=\"text-align: right;\">\n",
       "      <th></th>\n",
       "      <th>Match Number</th>\n",
       "      <th>team_1</th>\n",
       "      <th>team_2</th>\n",
       "      <th>stage</th>\n",
       "      <th>Winner_toss</th>\n",
       "      <th>Toss_descision</th>\n",
       "      <th>time</th>\n",
       "      <th>venue</th>\n",
       "      <th>avg_temperature</th>\n",
       "      <th>best_bowler</th>\n",
       "      <th>...</th>\n",
       "      <th>best_bowler_country</th>\n",
       "      <th>best_batter</th>\n",
       "      <th>batting_hand</th>\n",
       "      <th>high_indvidual_scores</th>\n",
       "      <th>strike_rate</th>\n",
       "      <th>best_batter_team</th>\n",
       "      <th>target</th>\n",
       "      <th>target_achieved</th>\n",
       "      <th>Player_of_the_match</th>\n",
       "      <th>Winner</th>\n",
       "    </tr>\n",
       "  </thead>\n",
       "  <tbody>\n",
       "    <tr>\n",
       "      <th>0</th>\n",
       "      <td>Match_1</td>\n",
       "      <td>Australia</td>\n",
       "      <td>SouthAfrica</td>\n",
       "      <td>Group_stage</td>\n",
       "      <td>Australia</td>\n",
       "      <td>Fielding</td>\n",
       "      <td>afternoon</td>\n",
       "      <td>Abu_Dhabi</td>\n",
       "      <td>30</td>\n",
       "      <td>Josh_Hazlewood</td>\n",
       "      <td>...</td>\n",
       "      <td>Australia</td>\n",
       "      <td>Aiden_Markram</td>\n",
       "      <td>Right</td>\n",
       "      <td>40</td>\n",
       "      <td>111.10</td>\n",
       "      <td>SouthAfrica</td>\n",
       "      <td>119</td>\n",
       "      <td>1</td>\n",
       "      <td>Josh_Hazlewood</td>\n",
       "      <td>Australia</td>\n",
       "    </tr>\n",
       "    <tr>\n",
       "      <th>1</th>\n",
       "      <td>Match_2</td>\n",
       "      <td>England</td>\n",
       "      <td>Windies</td>\n",
       "      <td>Group_stage</td>\n",
       "      <td>England</td>\n",
       "      <td>Fielding</td>\n",
       "      <td>evening</td>\n",
       "      <td>Dubai</td>\n",
       "      <td>33</td>\n",
       "      <td>Adil_Rashid</td>\n",
       "      <td>...</td>\n",
       "      <td>England</td>\n",
       "      <td>Jos_Buttler</td>\n",
       "      <td>Right</td>\n",
       "      <td>24</td>\n",
       "      <td>109.10</td>\n",
       "      <td>England</td>\n",
       "      <td>56</td>\n",
       "      <td>1</td>\n",
       "      <td>Moeen_Ali</td>\n",
       "      <td>England</td>\n",
       "    </tr>\n",
       "    <tr>\n",
       "      <th>2</th>\n",
       "      <td>Match_3</td>\n",
       "      <td>Srilanka</td>\n",
       "      <td>Bangladesh</td>\n",
       "      <td>Group_stage</td>\n",
       "      <td>Srilanka</td>\n",
       "      <td>Fielding</td>\n",
       "      <td>afternoon</td>\n",
       "      <td>Sharjah</td>\n",
       "      <td>34</td>\n",
       "      <td>Shakib_al_Hassan</td>\n",
       "      <td>...</td>\n",
       "      <td>Bangladesh</td>\n",
       "      <td>Charith_Asalanka</td>\n",
       "      <td>Left</td>\n",
       "      <td>80</td>\n",
       "      <td>163.20</td>\n",
       "      <td>Srilanka</td>\n",
       "      <td>172</td>\n",
       "      <td>1</td>\n",
       "      <td>Charith_Asalanka</td>\n",
       "      <td>Srilanka</td>\n",
       "    </tr>\n",
       "    <tr>\n",
       "      <th>3</th>\n",
       "      <td>Match_4</td>\n",
       "      <td>Pakistan</td>\n",
       "      <td>India</td>\n",
       "      <td>Group_stage</td>\n",
       "      <td>Pakistan</td>\n",
       "      <td>Fielding</td>\n",
       "      <td>evening</td>\n",
       "      <td>Dubai</td>\n",
       "      <td>34</td>\n",
       "      <td>Shaheen_shah</td>\n",
       "      <td>...</td>\n",
       "      <td>Pakistan</td>\n",
       "      <td>Muhammad_Rizwan</td>\n",
       "      <td>Right</td>\n",
       "      <td>79</td>\n",
       "      <td>143.60</td>\n",
       "      <td>Pakistan</td>\n",
       "      <td>152</td>\n",
       "      <td>1</td>\n",
       "      <td>Shaheen_shah</td>\n",
       "      <td>Pakistan</td>\n",
       "    </tr>\n",
       "    <tr>\n",
       "      <th>4</th>\n",
       "      <td>Match_5</td>\n",
       "      <td>Afghanistan</td>\n",
       "      <td>Scotland</td>\n",
       "      <td>Group_stage</td>\n",
       "      <td>Afghanistan</td>\n",
       "      <td>Batting</td>\n",
       "      <td>evening</td>\n",
       "      <td>Sharjah</td>\n",
       "      <td>33</td>\n",
       "      <td>Mujeeb_ur_Rehman</td>\n",
       "      <td>...</td>\n",
       "      <td>Afghanistan</td>\n",
       "      <td>Najibullah_Zadran</td>\n",
       "      <td>Left</td>\n",
       "      <td>59</td>\n",
       "      <td>173.53</td>\n",
       "      <td>Afghanistan</td>\n",
       "      <td>191</td>\n",
       "      <td>0</td>\n",
       "      <td>Mujeeb_ur_Rehman</td>\n",
       "      <td>Afghanistan</td>\n",
       "    </tr>\n",
       "  </tbody>\n",
       "</table>\n",
       "<p>5 rows × 24 columns</p>\n",
       "</div>"
      ],
      "text/plain": [
       "  Match Number       team_1       team_2        stage  Winner_toss  \\\n",
       "0      Match_1    Australia  SouthAfrica  Group_stage    Australia   \n",
       "1      Match_2      England      Windies  Group_stage      England   \n",
       "2      Match_3     Srilanka   Bangladesh  Group_stage     Srilanka   \n",
       "3      Match_4     Pakistan        India  Group_stage     Pakistan   \n",
       "4      Match_5  Afghanistan     Scotland  Group_stage  Afghanistan   \n",
       "\n",
       "  Toss_descision       time      venue  avg_temperature       best_bowler  \\\n",
       "0       Fielding  afternoon  Abu_Dhabi               30    Josh_Hazlewood   \n",
       "1       Fielding    evening      Dubai               33       Adil_Rashid   \n",
       "2       Fielding  afternoon    Sharjah               34  Shakib_al_Hassan   \n",
       "3       Fielding    evening      Dubai               34      Shaheen_shah   \n",
       "4        Batting    evening    Sharjah               33  Mujeeb_ur_Rehman   \n",
       "\n",
       "   ... best_bowler_country        best_batter  batting_hand  \\\n",
       "0  ...           Australia      Aiden_Markram         Right   \n",
       "1  ...             England        Jos_Buttler         Right   \n",
       "2  ...          Bangladesh   Charith_Asalanka          Left   \n",
       "3  ...            Pakistan    Muhammad_Rizwan         Right   \n",
       "4  ...         Afghanistan  Najibullah_Zadran          Left   \n",
       "\n",
       "   high_indvidual_scores strike_rate best_batter_team target  target_achieved  \\\n",
       "0                     40      111.10      SouthAfrica    119                1   \n",
       "1                     24      109.10          England     56                1   \n",
       "2                     80      163.20         Srilanka    172                1   \n",
       "3                     79      143.60         Pakistan    152                1   \n",
       "4                     59      173.53      Afghanistan    191                0   \n",
       "\n",
       "   Player_of_the_match       Winner  \n",
       "0       Josh_Hazlewood    Australia  \n",
       "1            Moeen_Ali      England  \n",
       "2     Charith_Asalanka     Srilanka  \n",
       "3         Shaheen_shah     Pakistan  \n",
       "4     Mujeeb_ur_Rehman  Afghanistan  \n",
       "\n",
       "[5 rows x 24 columns]"
      ]
     },
     "execution_count": 5,
     "metadata": {},
     "output_type": "execute_result"
    }
   ],
   "source": [
    "#rename attribute\n",
    "df = df.rename(columns = {'Unnamed: 0' : 'Match Number'})\n",
    "df.head()"
   ]
  },
  {
   "cell_type": "code",
   "execution_count": 6,
   "id": "b2671fef",
   "metadata": {
    "execution": {
     "iopub.execute_input": "2021-11-15T11:59:54.988355Z",
     "iopub.status.busy": "2021-11-15T11:59:54.987630Z",
     "iopub.status.idle": "2021-11-15T11:59:55.010272Z",
     "shell.execute_reply": "2021-11-15T11:59:55.010755Z",
     "shell.execute_reply.started": "2021-11-15T11:58:45.440791Z"
    },
    "papermill": {
     "duration": 0.067265,
     "end_time": "2021-11-15T11:59:55.010955",
     "exception": false,
     "start_time": "2021-11-15T11:59:54.943690",
     "status": "completed"
    },
    "tags": []
   },
   "outputs": [
    {
     "data": {
      "text/html": [
       "<div>\n",
       "<style scoped>\n",
       "    .dataframe tbody tr th:only-of-type {\n",
       "        vertical-align: middle;\n",
       "    }\n",
       "\n",
       "    .dataframe tbody tr th {\n",
       "        vertical-align: top;\n",
       "    }\n",
       "\n",
       "    .dataframe thead th {\n",
       "        text-align: right;\n",
       "    }\n",
       "</style>\n",
       "<table border=\"1\" class=\"dataframe\">\n",
       "  <thead>\n",
       "    <tr style=\"text-align: right;\">\n",
       "      <th></th>\n",
       "      <th>team_1</th>\n",
       "      <th>team_2</th>\n",
       "      <th>stage</th>\n",
       "      <th>Winner_toss</th>\n",
       "      <th>Toss_descision</th>\n",
       "      <th>time</th>\n",
       "      <th>venue</th>\n",
       "      <th>avg_temperature</th>\n",
       "      <th>best_bowler</th>\n",
       "      <th>bowling_arm</th>\n",
       "      <th>...</th>\n",
       "      <th>best_bowler_country</th>\n",
       "      <th>best_batter</th>\n",
       "      <th>batting_hand</th>\n",
       "      <th>high_indvidual_scores</th>\n",
       "      <th>strike_rate</th>\n",
       "      <th>best_batter_team</th>\n",
       "      <th>target</th>\n",
       "      <th>target_achieved</th>\n",
       "      <th>Player_of_the_match</th>\n",
       "      <th>Winner</th>\n",
       "    </tr>\n",
       "    <tr>\n",
       "      <th>Match Number</th>\n",
       "      <th></th>\n",
       "      <th></th>\n",
       "      <th></th>\n",
       "      <th></th>\n",
       "      <th></th>\n",
       "      <th></th>\n",
       "      <th></th>\n",
       "      <th></th>\n",
       "      <th></th>\n",
       "      <th></th>\n",
       "      <th></th>\n",
       "      <th></th>\n",
       "      <th></th>\n",
       "      <th></th>\n",
       "      <th></th>\n",
       "      <th></th>\n",
       "      <th></th>\n",
       "      <th></th>\n",
       "      <th></th>\n",
       "      <th></th>\n",
       "      <th></th>\n",
       "    </tr>\n",
       "  </thead>\n",
       "  <tbody>\n",
       "    <tr>\n",
       "      <th>Match_1</th>\n",
       "      <td>Australia</td>\n",
       "      <td>SouthAfrica</td>\n",
       "      <td>Group_stage</td>\n",
       "      <td>Australia</td>\n",
       "      <td>Fielding</td>\n",
       "      <td>afternoon</td>\n",
       "      <td>Abu_Dhabi</td>\n",
       "      <td>30</td>\n",
       "      <td>Josh_Hazlewood</td>\n",
       "      <td>Right</td>\n",
       "      <td>...</td>\n",
       "      <td>Australia</td>\n",
       "      <td>Aiden_Markram</td>\n",
       "      <td>Right</td>\n",
       "      <td>40</td>\n",
       "      <td>111.10</td>\n",
       "      <td>SouthAfrica</td>\n",
       "      <td>119</td>\n",
       "      <td>1</td>\n",
       "      <td>Josh_Hazlewood</td>\n",
       "      <td>Australia</td>\n",
       "    </tr>\n",
       "    <tr>\n",
       "      <th>Match_2</th>\n",
       "      <td>England</td>\n",
       "      <td>Windies</td>\n",
       "      <td>Group_stage</td>\n",
       "      <td>England</td>\n",
       "      <td>Fielding</td>\n",
       "      <td>evening</td>\n",
       "      <td>Dubai</td>\n",
       "      <td>33</td>\n",
       "      <td>Adil_Rashid</td>\n",
       "      <td>Right</td>\n",
       "      <td>...</td>\n",
       "      <td>England</td>\n",
       "      <td>Jos_Buttler</td>\n",
       "      <td>Right</td>\n",
       "      <td>24</td>\n",
       "      <td>109.10</td>\n",
       "      <td>England</td>\n",
       "      <td>56</td>\n",
       "      <td>1</td>\n",
       "      <td>Moeen_Ali</td>\n",
       "      <td>England</td>\n",
       "    </tr>\n",
       "    <tr>\n",
       "      <th>Match_3</th>\n",
       "      <td>Srilanka</td>\n",
       "      <td>Bangladesh</td>\n",
       "      <td>Group_stage</td>\n",
       "      <td>Srilanka</td>\n",
       "      <td>Fielding</td>\n",
       "      <td>afternoon</td>\n",
       "      <td>Sharjah</td>\n",
       "      <td>34</td>\n",
       "      <td>Shakib_al_Hassan</td>\n",
       "      <td>Left</td>\n",
       "      <td>...</td>\n",
       "      <td>Bangladesh</td>\n",
       "      <td>Charith_Asalanka</td>\n",
       "      <td>Left</td>\n",
       "      <td>80</td>\n",
       "      <td>163.20</td>\n",
       "      <td>Srilanka</td>\n",
       "      <td>172</td>\n",
       "      <td>1</td>\n",
       "      <td>Charith_Asalanka</td>\n",
       "      <td>Srilanka</td>\n",
       "    </tr>\n",
       "    <tr>\n",
       "      <th>Match_4</th>\n",
       "      <td>Pakistan</td>\n",
       "      <td>India</td>\n",
       "      <td>Group_stage</td>\n",
       "      <td>Pakistan</td>\n",
       "      <td>Fielding</td>\n",
       "      <td>evening</td>\n",
       "      <td>Dubai</td>\n",
       "      <td>34</td>\n",
       "      <td>Shaheen_shah</td>\n",
       "      <td>Left</td>\n",
       "      <td>...</td>\n",
       "      <td>Pakistan</td>\n",
       "      <td>Muhammad_Rizwan</td>\n",
       "      <td>Right</td>\n",
       "      <td>79</td>\n",
       "      <td>143.60</td>\n",
       "      <td>Pakistan</td>\n",
       "      <td>152</td>\n",
       "      <td>1</td>\n",
       "      <td>Shaheen_shah</td>\n",
       "      <td>Pakistan</td>\n",
       "    </tr>\n",
       "    <tr>\n",
       "      <th>Match_5</th>\n",
       "      <td>Afghanistan</td>\n",
       "      <td>Scotland</td>\n",
       "      <td>Group_stage</td>\n",
       "      <td>Afghanistan</td>\n",
       "      <td>Batting</td>\n",
       "      <td>evening</td>\n",
       "      <td>Sharjah</td>\n",
       "      <td>33</td>\n",
       "      <td>Mujeeb_ur_Rehman</td>\n",
       "      <td>Right</td>\n",
       "      <td>...</td>\n",
       "      <td>Afghanistan</td>\n",
       "      <td>Najibullah_Zadran</td>\n",
       "      <td>Left</td>\n",
       "      <td>59</td>\n",
       "      <td>173.53</td>\n",
       "      <td>Afghanistan</td>\n",
       "      <td>191</td>\n",
       "      <td>0</td>\n",
       "      <td>Mujeeb_ur_Rehman</td>\n",
       "      <td>Afghanistan</td>\n",
       "    </tr>\n",
       "  </tbody>\n",
       "</table>\n",
       "<p>5 rows × 23 columns</p>\n",
       "</div>"
      ],
      "text/plain": [
       "                   team_1       team_2        stage  Winner_toss  \\\n",
       "Match Number                                                       \n",
       "Match_1         Australia  SouthAfrica  Group_stage    Australia   \n",
       "Match_2           England      Windies  Group_stage      England   \n",
       "Match_3          Srilanka   Bangladesh  Group_stage     Srilanka   \n",
       "Match_4          Pakistan        India  Group_stage     Pakistan   \n",
       "Match_5       Afghanistan     Scotland  Group_stage  Afghanistan   \n",
       "\n",
       "             Toss_descision       time      venue  avg_temperature  \\\n",
       "Match Number                                                         \n",
       "Match_1            Fielding  afternoon  Abu_Dhabi               30   \n",
       "Match_2            Fielding    evening      Dubai               33   \n",
       "Match_3            Fielding  afternoon    Sharjah               34   \n",
       "Match_4            Fielding    evening      Dubai               34   \n",
       "Match_5             Batting    evening    Sharjah               33   \n",
       "\n",
       "                   best_bowler bowling_arm  ... best_bowler_country  \\\n",
       "Match Number                                ...                       \n",
       "Match_1         Josh_Hazlewood       Right  ...           Australia   \n",
       "Match_2            Adil_Rashid       Right  ...             England   \n",
       "Match_3       Shakib_al_Hassan        Left  ...          Bangladesh   \n",
       "Match_4           Shaheen_shah        Left  ...            Pakistan   \n",
       "Match_5       Mujeeb_ur_Rehman       Right  ...         Afghanistan   \n",
       "\n",
       "                    best_batter  batting_hand high_indvidual_scores  \\\n",
       "Match Number                                                          \n",
       "Match_1           Aiden_Markram         Right                    40   \n",
       "Match_2             Jos_Buttler         Right                    24   \n",
       "Match_3        Charith_Asalanka          Left                    80   \n",
       "Match_4         Muhammad_Rizwan         Right                    79   \n",
       "Match_5       Najibullah_Zadran          Left                    59   \n",
       "\n",
       "             strike_rate best_batter_team  target  target_achieved  \\\n",
       "Match Number                                                         \n",
       "Match_1           111.10      SouthAfrica     119                1   \n",
       "Match_2           109.10          England      56                1   \n",
       "Match_3           163.20         Srilanka     172                1   \n",
       "Match_4           143.60         Pakistan     152                1   \n",
       "Match_5           173.53      Afghanistan     191                0   \n",
       "\n",
       "             Player_of_the_match       Winner  \n",
       "Match Number                                   \n",
       "Match_1           Josh_Hazlewood    Australia  \n",
       "Match_2                Moeen_Ali      England  \n",
       "Match_3         Charith_Asalanka     Srilanka  \n",
       "Match_4             Shaheen_shah     Pakistan  \n",
       "Match_5         Mujeeb_ur_Rehman  Afghanistan  \n",
       "\n",
       "[5 rows x 23 columns]"
      ]
     },
     "execution_count": 6,
     "metadata": {},
     "output_type": "execute_result"
    }
   ],
   "source": [
    "#indexing match number\n",
    "df = df.set_index('Match Number')\n",
    "df.head()"
   ]
  },
  {
   "cell_type": "code",
   "execution_count": 7,
   "id": "397d4d62",
   "metadata": {
    "execution": {
     "iopub.execute_input": "2021-11-15T11:59:55.095982Z",
     "iopub.status.busy": "2021-11-15T11:59:55.095148Z",
     "iopub.status.idle": "2021-11-15T11:59:55.272431Z",
     "shell.execute_reply": "2021-11-15T11:59:55.272967Z",
     "shell.execute_reply.started": "2021-11-15T11:58:45.465989Z"
    },
    "papermill": {
     "duration": 0.222927,
     "end_time": "2021-11-15T11:59:55.273174",
     "exception": false,
     "start_time": "2021-11-15T11:59:55.050247",
     "status": "completed"
    },
    "tags": []
   },
   "outputs": [
    {
     "data": {
      "text/html": [
       "<div>\n",
       "<style scoped>\n",
       "    .dataframe tbody tr th:only-of-type {\n",
       "        vertical-align: middle;\n",
       "    }\n",
       "\n",
       "    .dataframe tbody tr th {\n",
       "        vertical-align: top;\n",
       "    }\n",
       "\n",
       "    .dataframe thead th {\n",
       "        text-align: right;\n",
       "    }\n",
       "</style>\n",
       "<table border=\"1\" class=\"dataframe\">\n",
       "  <thead>\n",
       "    <tr style=\"text-align: right;\">\n",
       "      <th></th>\n",
       "      <th>avg_temperature</th>\n",
       "      <th>most_individual_wickets</th>\n",
       "      <th>economy</th>\n",
       "      <th>high_indvidual_scores</th>\n",
       "      <th>strike_rate</th>\n",
       "      <th>target</th>\n",
       "      <th>target_achieved</th>\n",
       "    </tr>\n",
       "  </thead>\n",
       "  <tbody>\n",
       "    <tr>\n",
       "      <th>count</th>\n",
       "      <td>33.000000</td>\n",
       "      <td>33.000000</td>\n",
       "      <td>33.000000</td>\n",
       "      <td>33.000000</td>\n",
       "      <td>33.000000</td>\n",
       "      <td>33.000000</td>\n",
       "      <td>33.000000</td>\n",
       "    </tr>\n",
       "    <tr>\n",
       "      <th>mean</th>\n",
       "      <td>29.272727</td>\n",
       "      <td>2.878788</td>\n",
       "      <td>5.215758</td>\n",
       "      <td>62.393939</td>\n",
       "      <td>152.402121</td>\n",
       "      <td>146.606061</td>\n",
       "      <td>0.696970</td>\n",
       "    </tr>\n",
       "    <tr>\n",
       "      <th>std</th>\n",
       "      <td>2.577217</td>\n",
       "      <td>0.892944</td>\n",
       "      <td>2.187966</td>\n",
       "      <td>20.135385</td>\n",
       "      <td>33.999070</td>\n",
       "      <td>37.136521</td>\n",
       "      <td>0.466694</td>\n",
       "    </tr>\n",
       "    <tr>\n",
       "      <th>min</th>\n",
       "      <td>20.000000</td>\n",
       "      <td>1.000000</td>\n",
       "      <td>0.900000</td>\n",
       "      <td>24.000000</td>\n",
       "      <td>97.060000</td>\n",
       "      <td>56.000000</td>\n",
       "      <td>0.000000</td>\n",
       "    </tr>\n",
       "    <tr>\n",
       "      <th>25%</th>\n",
       "      <td>28.000000</td>\n",
       "      <td>2.000000</td>\n",
       "      <td>4.000000</td>\n",
       "      <td>45.000000</td>\n",
       "      <td>136.360000</td>\n",
       "      <td>125.000000</td>\n",
       "      <td>0.000000</td>\n",
       "    </tr>\n",
       "    <tr>\n",
       "      <th>50%</th>\n",
       "      <td>29.000000</td>\n",
       "      <td>3.000000</td>\n",
       "      <td>4.800000</td>\n",
       "      <td>65.000000</td>\n",
       "      <td>153.190000</td>\n",
       "      <td>152.000000</td>\n",
       "      <td>1.000000</td>\n",
       "    </tr>\n",
       "    <tr>\n",
       "      <th>75%</th>\n",
       "      <td>30.000000</td>\n",
       "      <td>3.000000</td>\n",
       "      <td>6.250000</td>\n",
       "      <td>79.000000</td>\n",
       "      <td>162.900000</td>\n",
       "      <td>173.000000</td>\n",
       "      <td>1.000000</td>\n",
       "    </tr>\n",
       "    <tr>\n",
       "      <th>max</th>\n",
       "      <td>34.000000</td>\n",
       "      <td>5.000000</td>\n",
       "      <td>12.000000</td>\n",
       "      <td>101.000000</td>\n",
       "      <td>263.160000</td>\n",
       "      <td>211.000000</td>\n",
       "      <td>1.000000</td>\n",
       "    </tr>\n",
       "  </tbody>\n",
       "</table>\n",
       "</div>"
      ],
      "text/plain": [
       "       avg_temperature  most_individual_wickets    economy  \\\n",
       "count        33.000000                33.000000  33.000000   \n",
       "mean         29.272727                 2.878788   5.215758   \n",
       "std           2.577217                 0.892944   2.187966   \n",
       "min          20.000000                 1.000000   0.900000   \n",
       "25%          28.000000                 2.000000   4.000000   \n",
       "50%          29.000000                 3.000000   4.800000   \n",
       "75%          30.000000                 3.000000   6.250000   \n",
       "max          34.000000                 5.000000  12.000000   \n",
       "\n",
       "       high_indvidual_scores  strike_rate      target  target_achieved  \n",
       "count              33.000000    33.000000   33.000000        33.000000  \n",
       "mean               62.393939   152.402121  146.606061         0.696970  \n",
       "std                20.135385    33.999070   37.136521         0.466694  \n",
       "min                24.000000    97.060000   56.000000         0.000000  \n",
       "25%                45.000000   136.360000  125.000000         0.000000  \n",
       "50%                65.000000   153.190000  152.000000         1.000000  \n",
       "75%                79.000000   162.900000  173.000000         1.000000  \n",
       "max               101.000000   263.160000  211.000000         1.000000  "
      ]
     },
     "execution_count": 7,
     "metadata": {},
     "output_type": "execute_result"
    }
   ],
   "source": [
    "df.describe()"
   ]
  },
  {
   "cell_type": "code",
   "execution_count": 8,
   "id": "ed0037eb",
   "metadata": {
    "execution": {
     "iopub.execute_input": "2021-11-15T11:59:55.371270Z",
     "iopub.status.busy": "2021-11-15T11:59:55.358865Z",
     "iopub.status.idle": "2021-11-15T11:59:55.376322Z",
     "shell.execute_reply": "2021-11-15T11:59:55.377093Z",
     "shell.execute_reply.started": "2021-11-15T11:58:45.494887Z"
    },
    "papermill": {
     "duration": 0.063538,
     "end_time": "2021-11-15T11:59:55.377358",
     "exception": false,
     "start_time": "2021-11-15T11:59:55.313820",
     "status": "completed"
    },
    "tags": []
   },
   "outputs": [
    {
     "name": "stdout",
     "output_type": "stream",
     "text": [
      "<class 'pandas.core.frame.DataFrame'>\n",
      "Index: 33 entries, Match_1 to Match_33\n",
      "Data columns (total 23 columns):\n",
      " #   Column                   Non-Null Count  Dtype  \n",
      "---  ------                   --------------  -----  \n",
      " 0   team_1                   33 non-null     object \n",
      " 1   team_2                   33 non-null     object \n",
      " 2   stage                    33 non-null     object \n",
      " 3   Winner_toss              33 non-null     object \n",
      " 4   Toss_descision           33 non-null     object \n",
      " 5   time                     33 non-null     object \n",
      " 6   venue                    33 non-null     object \n",
      " 7   avg_temperature          33 non-null     int64  \n",
      " 8   best_bowler              33 non-null     object \n",
      " 9   bowling_arm              33 non-null     object \n",
      " 10  bowling_style            33 non-null     object \n",
      " 11  most_individual_wickets  33 non-null     int64  \n",
      " 12  economy                  33 non-null     float64\n",
      " 13  best_bowler_country      33 non-null     object \n",
      " 14  best_batter              33 non-null     object \n",
      " 15  batting_hand             33 non-null     object \n",
      " 16  high_indvidual_scores    33 non-null     int64  \n",
      " 17  strike_rate              33 non-null     float64\n",
      " 18  best_batter_team         33 non-null     object \n",
      " 19  target                   33 non-null     int64  \n",
      " 20  target_achieved          33 non-null     int64  \n",
      " 21  Player_of_the_match      33 non-null     object \n",
      " 22  Winner                   33 non-null     object \n",
      "dtypes: float64(2), int64(5), object(16)\n",
      "memory usage: 6.2+ KB\n"
     ]
    }
   ],
   "source": [
    "df.info()"
   ]
  },
  {
   "cell_type": "code",
   "execution_count": 9,
   "id": "3bda410d",
   "metadata": {
    "execution": {
     "iopub.execute_input": "2021-11-15T11:59:55.468136Z",
     "iopub.status.busy": "2021-11-15T11:59:55.467194Z",
     "iopub.status.idle": "2021-11-15T11:59:56.037776Z",
     "shell.execute_reply": "2021-11-15T11:59:56.037213Z",
     "shell.execute_reply.started": "2021-11-15T11:58:45.509311Z"
    },
    "papermill": {
     "duration": 0.617575,
     "end_time": "2021-11-15T11:59:56.037934",
     "exception": false,
     "start_time": "2021-11-15T11:59:55.420359",
     "status": "completed"
    },
    "tags": []
   },
   "outputs": [
    {
     "data": {
      "image/png": "[encoded data removed]",
      "text/plain": [
       "<Figure size 576x432 with 2 Axes>"
      ]
     },
     "metadata": {
      "needs_background": "light"
     },
     "output_type": "display_data"
    }
   ],
   "source": [
    "#heatmap correlation\n",
    "plt.figure(figsize = (8,6))\n",
    "sns.heatmap(df.corr(), annot = True, cmap = 'OrRd')\n",
    "plt.title(\"Pearson Correlation\")\n",
    "plt.show()"
   ]
  },
  {
   "cell_type": "markdown",
   "id": "ea6014a2",
   "metadata": {
    "papermill": {
     "duration": 0.043141,
     "end_time": "2021-11-15T11:59:56.124494",
     "exception": false,
     "start_time": "2021-11-15T11:59:56.081353",
     "status": "completed"
    },
    "tags": []
   },
   "source": [
    "# Visualization"
   ]
  },
  {
   "cell_type": "code",
   "execution_count": 10,
   "id": "66c10085",
   "metadata": {
    "execution": {
     "iopub.execute_input": "2021-11-15T11:59:56.221764Z",
     "iopub.status.busy": "2021-11-15T11:59:56.220653Z",
     "iopub.status.idle": "2021-11-15T11:59:56.249664Z",
     "shell.execute_reply": "2021-11-15T11:59:56.250201Z",
     "shell.execute_reply.started": "2021-11-15T11:58:46.056313Z"
    },
    "papermill": {
     "duration": 0.081729,
     "end_time": "2021-11-15T11:59:56.250428",
     "exception": false,
     "start_time": "2021-11-15T11:59:56.168699",
     "status": "completed"
    },
    "tags": []
   },
   "outputs": [
    {
     "name": "stderr",
     "output_type": "stream",
     "text": [
      "/opt/conda/lib/python3.7/site-packages/ipykernel_launcher.py:2: SettingWithCopyWarning: \n",
      "A value is trying to be set on a copy of a slice from a DataFrame\n",
      "\n",
      "See the caveats in the documentation: https://pandas.pydata.org/pandas-docs/stable/user_guide/indexing.html#returning-a-view-versus-a-copy\n",
      "  \n",
      "/opt/conda/lib/python3.7/site-packages/ipykernel_launcher.py:3: SettingWithCopyWarning: \n",
      "A value is trying to be set on a copy of a slice from a DataFrame\n",
      "\n",
      "See the caveats in the documentation: https://pandas.pydata.org/pandas-docs/stable/user_guide/indexing.html#returning-a-view-versus-a-copy\n",
      "  This is separate from the ipykernel package so we can avoid doing imports until\n"
     ]
    },
    {
     "data": {
      "text/html": [
       "<div>\n",
       "<style scoped>\n",
       "    .dataframe tbody tr th:only-of-type {\n",
       "        vertical-align: middle;\n",
       "    }\n",
       "\n",
       "    .dataframe tbody tr th {\n",
       "        vertical-align: top;\n",
       "    }\n",
       "\n",
       "    .dataframe thead th {\n",
       "        text-align: right;\n",
       "    }\n",
       "</style>\n",
       "<table border=\"1\" class=\"dataframe\">\n",
       "  <thead>\n",
       "    <tr style=\"text-align: right;\">\n",
       "      <th></th>\n",
       "      <th>team_1</th>\n",
       "      <th>team_2</th>\n",
       "      <th>stage</th>\n",
       "      <th>Winner_toss</th>\n",
       "      <th>Toss_descision</th>\n",
       "      <th>time</th>\n",
       "      <th>venue</th>\n",
       "      <th>avg_temperature</th>\n",
       "      <th>best_bowler</th>\n",
       "      <th>bowling_arm</th>\n",
       "      <th>...</th>\n",
       "      <th>best_bowler_country</th>\n",
       "      <th>best_batter</th>\n",
       "      <th>batting_hand</th>\n",
       "      <th>high_indvidual_scores</th>\n",
       "      <th>strike_rate</th>\n",
       "      <th>best_batter_team</th>\n",
       "      <th>target</th>\n",
       "      <th>target_achieved</th>\n",
       "      <th>Player_of_the_match</th>\n",
       "      <th>Winner</th>\n",
       "    </tr>\n",
       "    <tr>\n",
       "      <th>Match Number</th>\n",
       "      <th></th>\n",
       "      <th></th>\n",
       "      <th></th>\n",
       "      <th></th>\n",
       "      <th></th>\n",
       "      <th></th>\n",
       "      <th></th>\n",
       "      <th></th>\n",
       "      <th></th>\n",
       "      <th></th>\n",
       "      <th></th>\n",
       "      <th></th>\n",
       "      <th></th>\n",
       "      <th></th>\n",
       "      <th></th>\n",
       "      <th></th>\n",
       "      <th></th>\n",
       "      <th></th>\n",
       "      <th></th>\n",
       "      <th></th>\n",
       "      <th></th>\n",
       "    </tr>\n",
       "  </thead>\n",
       "  <tbody>\n",
       "    <tr>\n",
       "      <th>Match_1</th>\n",
       "      <td>Australia</td>\n",
       "      <td>SouthAfrica</td>\n",
       "      <td>Group_stage</td>\n",
       "      <td>Australia</td>\n",
       "      <td>Fielding</td>\n",
       "      <td>afternoon</td>\n",
       "      <td>Abu_Dhabi</td>\n",
       "      <td>30</td>\n",
       "      <td>Josh_Hazlewood</td>\n",
       "      <td>Right</td>\n",
       "      <td>...</td>\n",
       "      <td>Australia</td>\n",
       "      <td>Aiden_Markram</td>\n",
       "      <td>Right</td>\n",
       "      <td>40</td>\n",
       "      <td>111.10</td>\n",
       "      <td>SouthAfrica</td>\n",
       "      <td>119</td>\n",
       "      <td>Not Achieved</td>\n",
       "      <td>Josh_Hazlewood</td>\n",
       "      <td>Australia</td>\n",
       "    </tr>\n",
       "    <tr>\n",
       "      <th>Match_2</th>\n",
       "      <td>England</td>\n",
       "      <td>Windies</td>\n",
       "      <td>Group_stage</td>\n",
       "      <td>England</td>\n",
       "      <td>Fielding</td>\n",
       "      <td>evening</td>\n",
       "      <td>Dubai</td>\n",
       "      <td>33</td>\n",
       "      <td>Adil_Rashid</td>\n",
       "      <td>Right</td>\n",
       "      <td>...</td>\n",
       "      <td>England</td>\n",
       "      <td>Jos_Buttler</td>\n",
       "      <td>Right</td>\n",
       "      <td>24</td>\n",
       "      <td>109.10</td>\n",
       "      <td>England</td>\n",
       "      <td>56</td>\n",
       "      <td>Not Achieved</td>\n",
       "      <td>Moeen_Ali</td>\n",
       "      <td>England</td>\n",
       "    </tr>\n",
       "    <tr>\n",
       "      <th>Match_3</th>\n",
       "      <td>Srilanka</td>\n",
       "      <td>Bangladesh</td>\n",
       "      <td>Group_stage</td>\n",
       "      <td>Srilanka</td>\n",
       "      <td>Fielding</td>\n",
       "      <td>afternoon</td>\n",
       "      <td>Sharjah</td>\n",
       "      <td>34</td>\n",
       "      <td>Shakib_al_Hassan</td>\n",
       "      <td>Left</td>\n",
       "      <td>...</td>\n",
       "      <td>Bangladesh</td>\n",
       "      <td>Charith_Asalanka</td>\n",
       "      <td>Left</td>\n",
       "      <td>80</td>\n",
       "      <td>163.20</td>\n",
       "      <td>Srilanka</td>\n",
       "      <td>172</td>\n",
       "      <td>Not Achieved</td>\n",
       "      <td>Charith_Asalanka</td>\n",
       "      <td>Srilanka</td>\n",
       "    </tr>\n",
       "    <tr>\n",
       "      <th>Match_4</th>\n",
       "      <td>Pakistan</td>\n",
       "      <td>India</td>\n",
       "      <td>Group_stage</td>\n",
       "      <td>Pakistan</td>\n",
       "      <td>Fielding</td>\n",
       "      <td>evening</td>\n",
       "      <td>Dubai</td>\n",
       "      <td>34</td>\n",
       "      <td>Shaheen_shah</td>\n",
       "      <td>Left</td>\n",
       "      <td>...</td>\n",
       "      <td>Pakistan</td>\n",
       "      <td>Muhammad_Rizwan</td>\n",
       "      <td>Right</td>\n",
       "      <td>79</td>\n",
       "      <td>143.60</td>\n",
       "      <td>Pakistan</td>\n",
       "      <td>152</td>\n",
       "      <td>Not Achieved</td>\n",
       "      <td>Shaheen_shah</td>\n",
       "      <td>Pakistan</td>\n",
       "    </tr>\n",
       "    <tr>\n",
       "      <th>Match_5</th>\n",
       "      <td>Afghanistan</td>\n",
       "      <td>Scotland</td>\n",
       "      <td>Group_stage</td>\n",
       "      <td>Afghanistan</td>\n",
       "      <td>Batting</td>\n",
       "      <td>evening</td>\n",
       "      <td>Sharjah</td>\n",
       "      <td>33</td>\n",
       "      <td>Mujeeb_ur_Rehman</td>\n",
       "      <td>Right</td>\n",
       "      <td>...</td>\n",
       "      <td>Afghanistan</td>\n",
       "      <td>Najibullah_Zadran</td>\n",
       "      <td>Left</td>\n",
       "      <td>59</td>\n",
       "      <td>173.53</td>\n",
       "      <td>Afghanistan</td>\n",
       "      <td>191</td>\n",
       "      <td>Achieved</td>\n",
       "      <td>Mujeeb_ur_Rehman</td>\n",
       "      <td>Afghanistan</td>\n",
       "    </tr>\n",
       "  </tbody>\n",
       "</table>\n",
       "<p>5 rows × 23 columns</p>\n",
       "</div>"
      ],
      "text/plain": [
       "                   team_1       team_2        stage  Winner_toss  \\\n",
       "Match Number                                                       \n",
       "Match_1         Australia  SouthAfrica  Group_stage    Australia   \n",
       "Match_2           England      Windies  Group_stage      England   \n",
       "Match_3          Srilanka   Bangladesh  Group_stage     Srilanka   \n",
       "Match_4          Pakistan        India  Group_stage     Pakistan   \n",
       "Match_5       Afghanistan     Scotland  Group_stage  Afghanistan   \n",
       "\n",
       "             Toss_descision       time      venue  avg_temperature  \\\n",
       "Match Number                                                         \n",
       "Match_1            Fielding  afternoon  Abu_Dhabi               30   \n",
       "Match_2            Fielding    evening      Dubai               33   \n",
       "Match_3            Fielding  afternoon    Sharjah               34   \n",
       "Match_4            Fielding    evening      Dubai               34   \n",
       "Match_5             Batting    evening    Sharjah               33   \n",
       "\n",
       "                   best_bowler bowling_arm  ... best_bowler_country  \\\n",
       "Match Number                                ...                       \n",
       "Match_1         Josh_Hazlewood       Right  ...           Australia   \n",
       "Match_2            Adil_Rashid       Right  ...             England   \n",
       "Match_3       Shakib_al_Hassan        Left  ...          Bangladesh   \n",
       "Match_4           Shaheen_shah        Left  ...            Pakistan   \n",
       "Match_5       Mujeeb_ur_Rehman       Right  ...         Afghanistan   \n",
       "\n",
       "                    best_batter  batting_hand high_indvidual_scores  \\\n",
       "Match Number                                                          \n",
       "Match_1           Aiden_Markram         Right                    40   \n",
       "Match_2             Jos_Buttler         Right                    24   \n",
       "Match_3        Charith_Asalanka          Left                    80   \n",
       "Match_4         Muhammad_Rizwan         Right                    79   \n",
       "Match_5       Najibullah_Zadran          Left                    59   \n",
       "\n",
       "             strike_rate best_batter_team  target  target_achieved  \\\n",
       "Match Number                                                         \n",
       "Match_1           111.10      SouthAfrica     119     Not Achieved   \n",
       "Match_2           109.10          England      56     Not Achieved   \n",
       "Match_3           163.20         Srilanka     172     Not Achieved   \n",
       "Match_4           143.60         Pakistan     152     Not Achieved   \n",
       "Match_5           173.53      Afghanistan     191         Achieved   \n",
       "\n",
       "             Player_of_the_match       Winner  \n",
       "Match Number                                   \n",
       "Match_1           Josh_Hazlewood    Australia  \n",
       "Match_2                Moeen_Ali      England  \n",
       "Match_3         Charith_Asalanka     Srilanka  \n",
       "Match_4             Shaheen_shah     Pakistan  \n",
       "Match_5         Mujeeb_ur_Rehman  Afghanistan  \n",
       "\n",
       "[5 rows x 23 columns]"
      ]
     },
     "execution_count": 10,
     "metadata": {},
     "output_type": "execute_result"
    }
   ],
   "source": [
    "#transform data\n",
    "df.target_achieved[df['target_achieved'] == 0] = 'Achieved'\n",
    "df.target_achieved[df['target_achieved'] == 1] = 'Not Achieved'\n",
    "df.head()"
   ]
  },
  {
   "cell_type": "code",
   "execution_count": 11,
   "id": "861a1186",
   "metadata": {
    "execution": {
     "iopub.execute_input": "2021-11-15T11:59:56.345307Z",
     "iopub.status.busy": "2021-11-15T11:59:56.344321Z",
     "iopub.status.idle": "2021-11-15T11:59:56.587461Z",
     "shell.execute_reply": "2021-11-15T11:59:56.587975Z",
     "shell.execute_reply.started": "2021-11-15T11:58:46.092487Z"
    },
    "papermill": {
     "duration": 0.294116,
     "end_time": "2021-11-15T11:59:56.588167",
     "exception": false,
     "start_time": "2021-11-15T11:59:56.294051",
     "status": "completed"
    },
    "tags": []
   },
   "outputs": [
    {
     "name": "stderr",
     "output_type": "stream",
     "text": [
      "/opt/conda/lib/python3.7/site-packages/seaborn/_decorators.py:43: FutureWarning: Pass the following variable as a keyword arg: x. From version 0.12, the only valid positional argument will be `data`, and passing other arguments without an explicit keyword will result in an error or misinterpretation.\n",
      "  FutureWarning\n"
     ]
    },
    {
     "data": {
      "image/png": "[encoded data removed]",
      "text/plain": [
       "<Figure size 720x432 with 1 Axes>"
      ]
     },
     "metadata": {
      "needs_background": "light"
     },
     "output_type": "display_data"
    }
   ],
   "source": [
    "#visualize team 1\n",
    "plt.figure(figsize = (10,6))\n",
    "chart = sns.countplot(df['team_1'])\n",
    "chart.set_xticklabels(chart.get_xticklabels(), rotation = 45)\n",
    "plt.title(\"Team 1\")\n",
    "plt.show()"
   ]
  },
  {
   "cell_type": "code",
   "execution_count": 12,
   "id": "70cec580",
   "metadata": {
    "execution": {
     "iopub.execute_input": "2021-11-15T11:59:56.684422Z",
     "iopub.status.busy": "2021-11-15T11:59:56.681662Z",
     "iopub.status.idle": "2021-11-15T11:59:56.691141Z",
     "shell.execute_reply": "2021-11-15T11:59:56.690558Z",
     "shell.execute_reply.started": "2021-11-15T11:58:46.331589Z"
    },
    "papermill": {
     "duration": 0.056448,
     "end_time": "2021-11-15T11:59:56.691302",
     "exception": false,
     "start_time": "2021-11-15T11:59:56.634854",
     "status": "completed"
    },
    "tags": []
   },
   "outputs": [],
   "source": [
    "#group team 1 & target achievement\n",
    "team1_achieved = df.groupby(['team_1', 'target_achieved']).size().reset_index(name = 'Count')"
   ]
  },
  {
   "cell_type": "code",
   "execution_count": 13,
   "id": "a0c1253a",
   "metadata": {
    "execution": {
     "iopub.execute_input": "2021-11-15T11:59:56.824238Z",
     "iopub.status.busy": "2021-11-15T11:59:56.792055Z",
     "iopub.status.idle": "2021-11-15T11:59:57.167336Z",
     "shell.execute_reply": "2021-11-15T11:59:57.166583Z",
     "shell.execute_reply.started": "2021-11-15T11:58:46.342847Z"
    },
    "papermill": {
     "duration": 0.429478,
     "end_time": "2021-11-15T11:59:57.167522",
     "exception": false,
     "start_time": "2021-11-15T11:59:56.738044",
     "status": "completed"
    },
    "tags": []
   },
   "outputs": [
    {
     "data": {
      "image/png": "[encoded data removed]",
      "text/plain": [
       "<Figure size 720x432 with 1 Axes>"
      ]
     },
     "metadata": {
      "needs_background": "light"
     },
     "output_type": "display_data"
    }
   ],
   "source": [
    "#visualize team 1 ~ target achieved\n",
    "plt.figure(figsize = (10,6))\n",
    "chart = sns.barplot(data = team1_achieved, x = 'team_1', y = 'Count', hue = 'target_achieved', palette = 'Set1')\n",
    "chart.set_xticklabels(chart.get_xticklabels(), rotation = 45)\n",
    "plt.title(\"Team 1 ~ Achievement\")\n",
    "plt.show()"
   ]
  },
  {
   "cell_type": "code",
   "execution_count": 14,
   "id": "850e01d2",
   "metadata": {
    "execution": {
     "iopub.execute_input": "2021-11-15T11:59:57.266432Z",
     "iopub.status.busy": "2021-11-15T11:59:57.265740Z",
     "iopub.status.idle": "2021-11-15T11:59:57.522493Z",
     "shell.execute_reply": "2021-11-15T11:59:57.523045Z",
     "shell.execute_reply.started": "2021-11-15T11:58:46.720729Z"
    },
    "papermill": {
     "duration": 0.306408,
     "end_time": "2021-11-15T11:59:57.523254",
     "exception": false,
     "start_time": "2021-11-15T11:59:57.216846",
     "status": "completed"
    },
    "tags": []
   },
   "outputs": [
    {
     "name": "stderr",
     "output_type": "stream",
     "text": [
      "/opt/conda/lib/python3.7/site-packages/seaborn/_decorators.py:43: FutureWarning: Pass the following variable as a keyword arg: x. From version 0.12, the only valid positional argument will be `data`, and passing other arguments without an explicit keyword will result in an error or misinterpretation.\n",
      "  FutureWarning\n"
     ]
    },
    {
     "data": {
      "image/png": "[encoded data removed]",
      "text/plain": [
       "<Figure size 720x432 with 1 Axes>"
      ]
     },
     "metadata": {
      "needs_background": "light"
     },
     "output_type": "display_data"
    }
   ],
   "source": [
    "#visualize team 2\n",
    "plt.figure(figsize = (10,6))\n",
    "chart = sns.countplot(df['team_2'], palette = 'Set2')\n",
    "chart.set_xticklabels(chart.get_xticklabels(), rotation = 45)\n",
    "plt.title(\"Team 2\")\n",
    "plt.show()"
   ]
  },
  {
   "cell_type": "code",
   "execution_count": 15,
   "id": "6368a945",
   "metadata": {
    "execution": {
     "iopub.execute_input": "2021-11-15T11:59:57.619916Z",
     "iopub.status.busy": "2021-11-15T11:59:57.618804Z",
     "iopub.status.idle": "2021-11-15T11:59:57.628884Z",
     "shell.execute_reply": "2021-11-15T11:59:57.628137Z",
     "shell.execute_reply.started": "2021-11-15T11:58:46.986716Z"
    },
    "papermill": {
     "duration": 0.059825,
     "end_time": "2021-11-15T11:59:57.629059",
     "exception": false,
     "start_time": "2021-11-15T11:59:57.569234",
     "status": "completed"
    },
    "tags": []
   },
   "outputs": [],
   "source": [
    "#group team 2 & target achievement\n",
    "team2_achieved = df.groupby(['team_2', 'target_achieved']).size().reset_index(name = 'Count')"
   ]
  },
  {
   "cell_type": "code",
   "execution_count": 16,
   "id": "3e27e2b0",
   "metadata": {
    "execution": {
     "iopub.execute_input": "2021-11-15T11:59:57.753440Z",
     "iopub.status.busy": "2021-11-15T11:59:57.752791Z",
     "iopub.status.idle": "2021-11-15T11:59:58.174883Z",
     "shell.execute_reply": "2021-11-15T11:59:58.175368Z",
     "shell.execute_reply.started": "2021-11-15T11:58:46.999039Z"
    },
    "papermill": {
     "duration": 0.498896,
     "end_time": "2021-11-15T11:59:58.175581",
     "exception": false,
     "start_time": "2021-11-15T11:59:57.676685",
     "status": "completed"
    },
    "tags": []
   },
   "outputs": [
    {
     "data": {
      "image/png": "[encoded data removed]",
      "text/plain": [
       "<Figure size 720x432 with 1 Axes>"
      ]
     },
     "metadata": {
      "needs_background": "light"
     },
     "output_type": "display_data"
    }
   ],
   "source": [
    "#visualize team 2 ~ target achieved\n",
    "plt.figure(figsize = (10,6))\n",
    "chart = sns.barplot(data = team2_achieved, x = 'team_2', y = 'Count', hue = 'target_achieved')\n",
    "chart.set_xticklabels(chart.get_xticklabels(), rotation = 45)\n",
    "plt.title(\"Team 2 ~ Achievement\")\n",
    "plt.show()"
   ]
  },
  {
   "cell_type": "code",
   "execution_count": 17,
   "id": "73fa4b78",
   "metadata": {
    "execution": {
     "iopub.execute_input": "2021-11-15T11:59:58.284660Z",
     "iopub.status.busy": "2021-11-15T11:59:58.282002Z",
     "iopub.status.idle": "2021-11-15T11:59:58.473511Z",
     "shell.execute_reply": "2021-11-15T11:59:58.474022Z",
     "shell.execute_reply.started": "2021-11-15T11:58:47.433217Z"
    },
    "papermill": {
     "duration": 0.249383,
     "end_time": "2021-11-15T11:59:58.474217",
     "exception": false,
     "start_time": "2021-11-15T11:59:58.224834",
     "status": "completed"
    },
    "tags": []
   },
   "outputs": [
    {
     "name": "stderr",
     "output_type": "stream",
     "text": [
      "/opt/conda/lib/python3.7/site-packages/seaborn/_decorators.py:43: FutureWarning: Pass the following variable as a keyword arg: x. From version 0.12, the only valid positional argument will be `data`, and passing other arguments without an explicit keyword will result in an error or misinterpretation.\n",
      "  FutureWarning\n"
     ]
    },
    {
     "data": {
      "image/png": "[encoded data removed]",
      "text/plain": [
       "<Figure size 576x432 with 1 Axes>"
      ]
     },
     "metadata": {
      "needs_background": "light"
     },
     "output_type": "display_data"
    }
   ],
   "source": [
    "#visualize stage\n",
    "plt.figure(figsize = (8,6))\n",
    "sns.countplot(df['stage'], palette = 'Set1')\n",
    "plt.title(\"Stage of Tournament\")\n",
    "plt.show()"
   ]
  },
  {
   "cell_type": "code",
   "execution_count": 18,
   "id": "133939b7",
   "metadata": {
    "execution": {
     "iopub.execute_input": "2021-11-15T11:59:58.576967Z",
     "iopub.status.busy": "2021-11-15T11:59:58.575844Z",
     "iopub.status.idle": "2021-11-15T11:59:58.584135Z",
     "shell.execute_reply": "2021-11-15T11:59:58.584644Z",
     "shell.execute_reply.started": "2021-11-15T11:58:47.612025Z"
    },
    "papermill": {
     "duration": 0.062158,
     "end_time": "2021-11-15T11:59:58.584857",
     "exception": false,
     "start_time": "2021-11-15T11:59:58.522699",
     "status": "completed"
    },
    "tags": []
   },
   "outputs": [],
   "source": [
    "#group stage & target achievement\n",
    "stage_achieved = df.groupby(['stage', 'target_achieved']).size().reset_index(name = 'Count')"
   ]
  },
  {
   "cell_type": "code",
   "execution_count": 19,
   "id": "7662cd8a",
   "metadata": {
    "execution": {
     "iopub.execute_input": "2021-11-15T11:59:58.695471Z",
     "iopub.status.busy": "2021-11-15T11:59:58.694382Z",
     "iopub.status.idle": "2021-11-15T11:59:58.951948Z",
     "shell.execute_reply": "2021-11-15T11:59:58.951123Z",
     "shell.execute_reply.started": "2021-11-15T11:58:47.623294Z"
    },
    "papermill": {
     "duration": 0.318487,
     "end_time": "2021-11-15T11:59:58.952135",
     "exception": false,
     "start_time": "2021-11-15T11:59:58.633648",
     "status": "completed"
    },
    "tags": []
   },
   "outputs": [
    {
     "data": {
      "image/png": "[encoded data removed]",
      "text/plain": [
       "<Figure size 576x432 with 1 Axes>"
      ]
     },
     "metadata": {
      "needs_background": "light"
     },
     "output_type": "display_data"
    }
   ],
   "source": [
    "#visualize stage ~ target achieved\n",
    "plt.figure(figsize = (8,6))\n",
    "sns.barplot(data = stage_achieved, x = 'stage', y = 'Count', hue = 'target_achieved', palette = 'Set2')\n",
    "chart.set_xticklabels(chart.get_xticklabels(), rotation = 45)\n",
    "plt.title(\"Stage of Tournament ~ Achievement\")\n",
    "plt.show()"
   ]
  },
  {
   "cell_type": "code",
   "execution_count": 20,
   "id": "946b8a6e",
   "metadata": {
    "execution": {
     "iopub.execute_input": "2021-11-15T11:59:59.092222Z",
     "iopub.status.busy": "2021-11-15T11:59:59.081646Z",
     "iopub.status.idle": "2021-11-15T11:59:59.315909Z",
     "shell.execute_reply": "2021-11-15T11:59:59.315318Z",
     "shell.execute_reply.started": "2021-11-15T11:58:47.880229Z"
    },
    "papermill": {
     "duration": 0.313793,
     "end_time": "2021-11-15T11:59:59.316077",
     "exception": false,
     "start_time": "2021-11-15T11:59:59.002284",
     "status": "completed"
    },
    "tags": []
   },
   "outputs": [
    {
     "name": "stderr",
     "output_type": "stream",
     "text": [
      "/opt/conda/lib/python3.7/site-packages/seaborn/_decorators.py:43: FutureWarning: Pass the following variable as a keyword arg: x. From version 0.12, the only valid positional argument will be `data`, and passing other arguments without an explicit keyword will result in an error or misinterpretation.\n",
      "  FutureWarning\n"
     ]
    },
    {
     "data": {
      "image/png": "[encoded data removed]",
      "text/plain": [
       "<Figure size 720x432 with 1 Axes>"
      ]
     },
     "metadata": {
      "needs_background": "light"
     },
     "output_type": "display_data"
    }
   ],
   "source": [
    "#visualize winner of toss\n",
    "plt.figure(figsize = (10,6))\n",
    "chart = sns.countplot(df['Winner_toss'])\n",
    "chart.set_xticklabels(chart.get_xticklabels(), rotation = 45)\n",
    "plt.title(\"Winner of Toss\")\n",
    "plt.show()"
   ]
  },
  {
   "cell_type": "code",
   "execution_count": 21,
   "id": "0cc238e4",
   "metadata": {
    "execution": {
     "iopub.execute_input": "2021-11-15T11:59:59.426334Z",
     "iopub.status.busy": "2021-11-15T11:59:59.425628Z",
     "iopub.status.idle": "2021-11-15T11:59:59.434036Z",
     "shell.execute_reply": "2021-11-15T11:59:59.433325Z",
     "shell.execute_reply.started": "2021-11-15T11:58:48.130752Z"
    },
    "papermill": {
     "duration": 0.065168,
     "end_time": "2021-11-15T11:59:59.434228",
     "exception": false,
     "start_time": "2021-11-15T11:59:59.369060",
     "status": "completed"
    },
    "tags": []
   },
   "outputs": [],
   "source": [
    "#group winner toss & target achievement\n",
    "winner_achieved = df.groupby(['Winner_toss', 'target_achieved']).size().reset_index(name = 'Count')"
   ]
  },
  {
   "cell_type": "code",
   "execution_count": 22,
   "id": "58dfecc2",
   "metadata": {
    "execution": {
     "iopub.execute_input": "2021-11-15T11:59:59.579047Z",
     "iopub.status.busy": "2021-11-15T11:59:59.545548Z",
     "iopub.status.idle": "2021-11-15T11:59:59.895171Z",
     "shell.execute_reply": "2021-11-15T11:59:59.895781Z",
     "shell.execute_reply.started": "2021-11-15T11:58:48.140893Z"
    },
    "papermill": {
     "duration": 0.410728,
     "end_time": "2021-11-15T11:59:59.896015",
     "exception": false,
     "start_time": "2021-11-15T11:59:59.485287",
     "status": "completed"
    },
    "tags": []
   },
   "outputs": [
    {
     "data": {
      "image/png": "[encoded data removed]",
      "text/plain": [
       "<Figure size 720x432 with 1 Axes>"
      ]
     },
     "metadata": {
      "needs_background": "light"
     },
     "output_type": "display_data"
    }
   ],
   "source": [
    "#visualize winner toss ~ target achieved\n",
    "plt.figure(figsize = (10,6))\n",
    "chart = sns.barplot(data = winner_achieved, x = 'Winner_toss', y = 'Count', hue = 'target_achieved', palette = 'Set1')\n",
    "chart.set_xticklabels(chart.get_xticklabels(), rotation = 45)\n",
    "plt.title(\"Winner of Toss ~ Achievement\")\n",
    "plt.legend(bbox_to_anchor = (1.01, 1), borderaxespad = 0)\n",
    "plt.show()"
   ]
  },
  {
   "cell_type": "code",
   "execution_count": 23,
   "id": "332bc327",
   "metadata": {
    "execution": {
     "iopub.execute_input": "2021-11-15T12:00:00.055767Z",
     "iopub.status.busy": "2021-11-15T12:00:00.036358Z",
     "iopub.status.idle": "2021-11-15T12:00:00.195223Z",
     "shell.execute_reply": "2021-11-15T12:00:00.194208Z",
     "shell.execute_reply.started": "2021-11-15T11:58:48.497875Z"
    },
    "papermill": {
     "duration": 0.248209,
     "end_time": "2021-11-15T12:00:00.195457",
     "exception": false,
     "start_time": "2021-11-15T11:59:59.947248",
     "status": "completed"
    },
    "tags": []
   },
   "outputs": [
    {
     "name": "stderr",
     "output_type": "stream",
     "text": [
      "/opt/conda/lib/python3.7/site-packages/seaborn/_decorators.py:43: FutureWarning: Pass the following variable as a keyword arg: x. From version 0.12, the only valid positional argument will be `data`, and passing other arguments without an explicit keyword will result in an error or misinterpretation.\n",
      "  FutureWarning\n"
     ]
    },
    {
     "data": {
      "image/png": "[encoded data removed]",
      "text/plain": [
       "<Figure size 576x432 with 1 Axes>"
      ]
     },
     "metadata": {
      "needs_background": "light"
     },
     "output_type": "display_data"
    }
   ],
   "source": [
    "#visualize toss decision\n",
    "plt.figure(figsize = (8,6))\n",
    "sns.countplot(df['Toss_descision'], palette = 'Set2')\n",
    "plt.title(\"Toss Decision\")\n",
    "plt.show()"
   ]
  },
  {
   "cell_type": "code",
   "execution_count": 24,
   "id": "9fc1c936",
   "metadata": {
    "execution": {
     "iopub.execute_input": "2021-11-15T12:00:00.314135Z",
     "iopub.status.busy": "2021-11-15T12:00:00.312991Z",
     "iopub.status.idle": "2021-11-15T12:00:00.318785Z",
     "shell.execute_reply": "2021-11-15T12:00:00.319393Z",
     "shell.execute_reply.started": "2021-11-15T11:58:48.673535Z"
    },
    "papermill": {
     "duration": 0.07065,
     "end_time": "2021-11-15T12:00:00.319590",
     "exception": false,
     "start_time": "2021-11-15T12:00:00.248940",
     "status": "completed"
    },
    "tags": []
   },
   "outputs": [],
   "source": [
    "#group winner toss decision & target achievement\n",
    "toss_achieved = df.groupby(['Toss_descision', 'target_achieved']).size().reset_index(name = 'Count')"
   ]
  },
  {
   "cell_type": "code",
   "execution_count": 25,
   "id": "1b2e20ad",
   "metadata": {
    "execution": {
     "iopub.execute_input": "2021-11-15T12:00:00.428772Z",
     "iopub.status.busy": "2021-11-15T12:00:00.427316Z",
     "iopub.status.idle": "2021-11-15T12:00:00.669138Z",
     "shell.execute_reply": "2021-11-15T12:00:00.668195Z",
     "shell.execute_reply.started": "2021-11-15T11:58:48.685012Z"
    },
    "papermill": {
     "duration": 0.298234,
     "end_time": "2021-11-15T12:00:00.669334",
     "exception": false,
     "start_time": "2021-11-15T12:00:00.371100",
     "status": "completed"
    },
    "tags": []
   },
   "outputs": [
    {
     "data": {
      "image/png": "[encoded data removed]",
      "text/plain": [
       "<Figure size 576x432 with 1 Axes>"
      ]
     },
     "metadata": {
      "needs_background": "light"
     },
     "output_type": "display_data"
    }
   ],
   "source": [
    "#visualize toss decision ~ target achieved\n",
    "plt.figure(figsize = (8,6))\n",
    "sns.barplot(data = toss_achieved, x = 'Toss_descision', y = 'Count', hue = 'target_achieved')\n",
    "plt.title(\"Toss Decision ~ Achievement\")\n",
    "plt.show()"
   ]
  },
  {
   "cell_type": "code",
   "execution_count": 26,
   "id": "7bb5b868",
   "metadata": {
    "execution": {
     "iopub.execute_input": "2021-11-15T12:00:00.787537Z",
     "iopub.status.busy": "2021-11-15T12:00:00.786461Z",
     "iopub.status.idle": "2021-11-15T12:00:00.984447Z",
     "shell.execute_reply": "2021-11-15T12:00:00.983656Z",
     "shell.execute_reply.started": "2021-11-15T11:58:48.926352Z"
    },
    "papermill": {
     "duration": 0.257838,
     "end_time": "2021-11-15T12:00:00.984641",
     "exception": false,
     "start_time": "2021-11-15T12:00:00.726803",
     "status": "completed"
    },
    "tags": []
   },
   "outputs": [
    {
     "name": "stderr",
     "output_type": "stream",
     "text": [
      "/opt/conda/lib/python3.7/site-packages/seaborn/_decorators.py:43: FutureWarning: Pass the following variable as a keyword arg: x. From version 0.12, the only valid positional argument will be `data`, and passing other arguments without an explicit keyword will result in an error or misinterpretation.\n",
      "  FutureWarning\n"
     ]
    },
    {
     "data": {
      "image/png": "[encoded data removed]",
      "text/plain": [
       "<Figure size 576x432 with 1 Axes>"
      ]
     },
     "metadata": {
      "needs_background": "light"
     },
     "output_type": "display_data"
    }
   ],
   "source": [
    "#visualize time\n",
    "plt.figure(figsize = (8,6))\n",
    "sns.countplot(df['time'], palette = 'Set1')\n",
    "plt.title(\"Time of Decision\")\n",
    "plt.show()"
   ]
  },
  {
   "cell_type": "code",
   "execution_count": 27,
   "id": "d11cf12a",
   "metadata": {
    "execution": {
     "iopub.execute_input": "2021-11-15T12:00:01.099500Z",
     "iopub.status.busy": "2021-11-15T12:00:01.098466Z",
     "iopub.status.idle": "2021-11-15T12:00:01.106931Z",
     "shell.execute_reply": "2021-11-15T12:00:01.107446Z",
     "shell.execute_reply.started": "2021-11-15T11:58:49.114920Z"
    },
    "papermill": {
     "duration": 0.068419,
     "end_time": "2021-11-15T12:00:01.107638",
     "exception": false,
     "start_time": "2021-11-15T12:00:01.039219",
     "status": "completed"
    },
    "tags": []
   },
   "outputs": [],
   "source": [
    "#group time & target achievement\n",
    "time_achieved = df.groupby(['time', 'target_achieved']).size().reset_index(name = 'Count')"
   ]
  },
  {
   "cell_type": "code",
   "execution_count": 28,
   "id": "93402236",
   "metadata": {
    "execution": {
     "iopub.execute_input": "2021-11-15T12:00:01.222535Z",
     "iopub.status.busy": "2021-11-15T12:00:01.221520Z",
     "iopub.status.idle": "2021-11-15T12:00:01.441447Z",
     "shell.execute_reply": "2021-11-15T12:00:01.442091Z",
     "shell.execute_reply.started": "2021-11-15T11:58:49.123328Z"
    },
    "papermill": {
     "duration": 0.277574,
     "end_time": "2021-11-15T12:00:01.442294",
     "exception": false,
     "start_time": "2021-11-15T12:00:01.164720",
     "status": "completed"
    },
    "tags": []
   },
   "outputs": [
    {
     "data": {
      "image/png": "[encoded data removed]",
      "text/plain": [
       "<Figure size 576x432 with 1 Axes>"
      ]
     },
     "metadata": {
      "needs_background": "light"
     },
     "output_type": "display_data"
    }
   ],
   "source": [
    "#visualize time ~ target achieved\n",
    "plt.figure(figsize = (8,6))\n",
    "sns.barplot(data = time_achieved, x = 'time', y = 'Count', hue = 'target_achieved', palette = 'Set2')\n",
    "plt.title(\"Time ~ Achievement\")\n",
    "plt.show()"
   ]
  },
  {
   "cell_type": "code",
   "execution_count": 29,
   "id": "5c292890",
   "metadata": {
    "execution": {
     "iopub.execute_input": "2021-11-15T12:00:01.560670Z",
     "iopub.status.busy": "2021-11-15T12:00:01.559521Z",
     "iopub.status.idle": "2021-11-15T12:00:01.967732Z",
     "shell.execute_reply": "2021-11-15T12:00:01.967175Z",
     "shell.execute_reply.started": "2021-11-15T11:58:49.530192Z"
    },
    "papermill": {
     "duration": 0.469782,
     "end_time": "2021-11-15T12:00:01.967914",
     "exception": false,
     "start_time": "2021-11-15T12:00:01.498132",
     "status": "completed"
    },
    "tags": []
   },
   "outputs": [
    {
     "name": "stderr",
     "output_type": "stream",
     "text": [
      "/opt/conda/lib/python3.7/site-packages/seaborn/_decorators.py:43: FutureWarning: Pass the following variable as a keyword arg: x. From version 0.12, the only valid positional argument will be `data`, and passing other arguments without an explicit keyword will result in an error or misinterpretation.\n",
      "  FutureWarning\n"
     ]
    },
    {
     "data": {
      "image/png": "[encoded data removed]",
      "text/plain": [
       "<Figure size 576x432 with 1 Axes>"
      ]
     },
     "metadata": {
      "needs_background": "light"
     },
     "output_type": "display_data"
    }
   ],
   "source": [
    "#visualize venue\n",
    "plt.figure(figsize = (8,6))\n",
    "sns.countplot(df['venue'])\n",
    "plt.title(\"Venue of Match\")\n",
    "plt.show()"
   ]
  },
  {
   "cell_type": "code",
   "execution_count": 30,
   "id": "5b1b9fd4",
   "metadata": {
    "execution": {
     "iopub.execute_input": "2021-11-15T12:00:02.082915Z",
     "iopub.status.busy": "2021-11-15T12:00:02.081914Z",
     "iopub.status.idle": "2021-11-15T12:00:02.089677Z",
     "shell.execute_reply": "2021-11-15T12:00:02.090170Z",
     "shell.execute_reply.started": "2021-11-15T11:58:49.718674Z"
    },
    "papermill": {
     "duration": 0.066399,
     "end_time": "2021-11-15T12:00:02.090388",
     "exception": false,
     "start_time": "2021-11-15T12:00:02.023989",
     "status": "completed"
    },
    "tags": []
   },
   "outputs": [],
   "source": [
    "#group venue & target achievement\n",
    "venue_achieved = df.groupby(['venue', 'target_achieved']).size().reset_index(name = 'Count')"
   ]
  },
  {
   "cell_type": "code",
   "execution_count": 31,
   "id": "f9fa6490",
   "metadata": {
    "execution": {
     "iopub.execute_input": "2021-11-15T12:00:02.207663Z",
     "iopub.status.busy": "2021-11-15T12:00:02.206628Z",
     "iopub.status.idle": "2021-11-15T12:00:02.438613Z",
     "shell.execute_reply": "2021-11-15T12:00:02.439114Z",
     "shell.execute_reply.started": "2021-11-15T11:58:49.729767Z"
    },
    "papermill": {
     "duration": 0.290811,
     "end_time": "2021-11-15T12:00:02.439308",
     "exception": false,
     "start_time": "2021-11-15T12:00:02.148497",
     "status": "completed"
    },
    "tags": []
   },
   "outputs": [
    {
     "data": {
      "image/png": "[encoded data removed]",
      "text/plain": [
       "<Figure size 576x432 with 1 Axes>"
      ]
     },
     "metadata": {
      "needs_background": "light"
     },
     "output_type": "display_data"
    }
   ],
   "source": [
    "#visualize venue ~ target achieved\n",
    "plt.figure(figsize = (8,6))\n",
    "sns.barplot(data = venue_achieved, x = 'venue', y = 'Count', hue = 'target_achieved', palette = 'Set1')\n",
    "plt.title(\"Venue of Match ~ Achievement\")\n",
    "plt.show()"
   ]
  },
  {
   "cell_type": "code",
   "execution_count": 32,
   "id": "7d7d229f",
   "metadata": {
    "execution": {
     "iopub.execute_input": "2021-11-15T12:00:02.555390Z",
     "iopub.status.busy": "2021-11-15T12:00:02.554351Z",
     "iopub.status.idle": "2021-11-15T12:00:02.744440Z",
     "shell.execute_reply": "2021-11-15T12:00:02.743760Z",
     "shell.execute_reply.started": "2021-11-15T11:58:49.968552Z"
    },
    "papermill": {
     "duration": 0.248852,
     "end_time": "2021-11-15T12:00:02.744601",
     "exception": false,
     "start_time": "2021-11-15T12:00:02.495749",
     "status": "completed"
    },
    "tags": []
   },
   "outputs": [
    {
     "name": "stderr",
     "output_type": "stream",
     "text": [
      "/opt/conda/lib/python3.7/site-packages/seaborn/_decorators.py:43: FutureWarning: Pass the following variable as a keyword arg: x. From version 0.12, the only valid positional argument will be `data`, and passing other arguments without an explicit keyword will result in an error or misinterpretation.\n",
      "  FutureWarning\n"
     ]
    },
    {
     "data": {
      "image/png": "[encoded data removed]",
      "text/plain": [
       "<Figure size 576x432 with 1 Axes>"
      ]
     },
     "metadata": {
      "needs_background": "light"
     },
     "output_type": "display_data"
    }
   ],
   "source": [
    "#visualize bowling arm\n",
    "plt.figure(figsize = (8,6))\n",
    "sns.countplot(df['bowling_arm'], palette = 'Set2')\n",
    "plt.title(\"Bowling Arm of Best Bowler\")\n",
    "plt.show()"
   ]
  },
  {
   "cell_type": "code",
   "execution_count": 33,
   "id": "c043c048",
   "metadata": {
    "execution": {
     "iopub.execute_input": "2021-11-15T12:00:02.861981Z",
     "iopub.status.busy": "2021-11-15T12:00:02.861329Z",
     "iopub.status.idle": "2021-11-15T12:00:02.868917Z",
     "shell.execute_reply": "2021-11-15T12:00:02.869397Z",
     "shell.execute_reply.started": "2021-11-15T11:58:50.171773Z"
    },
    "papermill": {
     "duration": 0.067361,
     "end_time": "2021-11-15T12:00:02.869607",
     "exception": false,
     "start_time": "2021-11-15T12:00:02.802246",
     "status": "completed"
    },
    "tags": []
   },
   "outputs": [],
   "source": [
    "#group bowling arm & target achievement\n",
    "bowling_achieved = df.groupby(['bowling_arm', 'target_achieved']).size().reset_index(name = 'Count')"
   ]
  },
  {
   "cell_type": "code",
   "execution_count": 34,
   "id": "35c867af",
   "metadata": {
    "execution": {
     "iopub.execute_input": "2021-11-15T12:00:02.997691Z",
     "iopub.status.busy": "2021-11-15T12:00:02.996954Z",
     "iopub.status.idle": "2021-11-15T12:00:03.215236Z",
     "shell.execute_reply": "2021-11-15T12:00:03.214623Z",
     "shell.execute_reply.started": "2021-11-15T11:58:50.180807Z"
    },
    "papermill": {
     "duration": 0.284262,
     "end_time": "2021-11-15T12:00:03.215399",
     "exception": false,
     "start_time": "2021-11-15T12:00:02.931137",
     "status": "completed"
    },
    "tags": []
   },
   "outputs": [
    {
     "data": {
      "image/png": "[encoded data removed]",
      "text/plain": [
       "<Figure size 576x432 with 1 Axes>"
      ]
     },
     "metadata": {
      "needs_background": "light"
     },
     "output_type": "display_data"
    }
   ],
   "source": [
    "#visualize bowling arm ~ target achieved\n",
    "plt.figure(figsize = (8,6))\n",
    "sns.barplot(data = bowling_achieved, x = 'bowling_arm', y = 'Count', hue = 'target_achieved')\n",
    "plt.title(\"Bowling Arm ~ Achievement\")\n",
    "plt.legend(bbox_to_anchor = (1.01, 1), borderaxespad = 0)\n",
    "plt.show()"
   ]
  },
  {
   "cell_type": "code",
   "execution_count": 35,
   "id": "81b58dd4",
   "metadata": {
    "execution": {
     "iopub.execute_input": "2021-11-15T12:00:03.343536Z",
     "iopub.status.busy": "2021-11-15T12:00:03.342862Z",
     "iopub.status.idle": "2021-11-15T12:00:03.543461Z",
     "shell.execute_reply": "2021-11-15T12:00:03.542643Z",
     "shell.execute_reply.started": "2021-11-15T11:58:50.398807Z"
    },
    "papermill": {
     "duration": 0.271156,
     "end_time": "2021-11-15T12:00:03.543650",
     "exception": false,
     "start_time": "2021-11-15T12:00:03.272494",
     "status": "completed"
    },
    "tags": []
   },
   "outputs": [
    {
     "name": "stderr",
     "output_type": "stream",
     "text": [
      "/opt/conda/lib/python3.7/site-packages/seaborn/_decorators.py:43: FutureWarning: Pass the following variable as a keyword arg: x. From version 0.12, the only valid positional argument will be `data`, and passing other arguments without an explicit keyword will result in an error or misinterpretation.\n",
      "  FutureWarning\n"
     ]
    },
    {
     "data": {
      "image/png": "[encoded data removed]",
      "text/plain": [
       "<Figure size 576x432 with 1 Axes>"
      ]
     },
     "metadata": {
      "needs_background": "light"
     },
     "output_type": "display_data"
    }
   ],
   "source": [
    "#visualize bowling style\n",
    "plt.figure(figsize = (8,6))\n",
    "sns.countplot(df['bowling_style'], palette = 'Set1')\n",
    "plt.title(\"Bowling Style of Best Bowler\")\n",
    "plt.show()"
   ]
  },
  {
   "cell_type": "code",
   "execution_count": 36,
   "id": "caca2405",
   "metadata": {
    "execution": {
     "iopub.execute_input": "2021-11-15T12:00:03.668689Z",
     "iopub.status.busy": "2021-11-15T12:00:03.668005Z",
     "iopub.status.idle": "2021-11-15T12:00:03.675192Z",
     "shell.execute_reply": "2021-11-15T12:00:03.674367Z",
     "shell.execute_reply.started": "2021-11-15T11:58:50.612327Z"
    },
    "papermill": {
     "duration": 0.07344,
     "end_time": "2021-11-15T12:00:03.675404",
     "exception": false,
     "start_time": "2021-11-15T12:00:03.601964",
     "status": "completed"
    },
    "tags": []
   },
   "outputs": [],
   "source": [
    "#group bowling style & target achievement\n",
    "style_achieved = df.groupby(['bowling_style', 'target_achieved']).size().reset_index(name = 'Count')"
   ]
  },
  {
   "cell_type": "code",
   "execution_count": 37,
   "id": "37426152",
   "metadata": {
    "execution": {
     "iopub.execute_input": "2021-11-15T12:00:03.836333Z",
     "iopub.status.busy": "2021-11-15T12:00:03.835154Z",
     "iopub.status.idle": "2021-11-15T12:00:04.111253Z",
     "shell.execute_reply": "2021-11-15T12:00:04.110576Z",
     "shell.execute_reply.started": "2021-11-15T11:58:50.624648Z"
    },
    "papermill": {
     "duration": 0.365556,
     "end_time": "2021-11-15T12:00:04.111413",
     "exception": false,
     "start_time": "2021-11-15T12:00:03.745857",
     "status": "completed"
    },
    "tags": []
   },
   "outputs": [
    {
     "data": {
      "image/png": "[encoded data removed]",
      "text/plain": [
       "<Figure size 576x432 with 1 Axes>"
      ]
     },
     "metadata": {
      "needs_background": "light"
     },
     "output_type": "display_data"
    }
   ],
   "source": [
    "#visualize bowling arm ~ target achieved\n",
    "plt.figure(figsize = (8,6))\n",
    "sns.barplot(data = style_achieved, x = 'bowling_style', y = 'Count', hue = 'target_achieved', palette = 'Set2')\n",
    "plt.title(\"Bowling Style ~ Achievement\")\n",
    "plt.legend(bbox_to_anchor = (1.01, 1), borderaxespad = 0)\n",
    "plt.show()"
   ]
  },
  {
   "cell_type": "code",
   "execution_count": 38,
   "id": "b9e7808c",
   "metadata": {
    "execution": {
     "iopub.execute_input": "2021-11-15T12:00:04.243513Z",
     "iopub.status.busy": "2021-11-15T12:00:04.242444Z",
     "iopub.status.idle": "2021-11-15T12:00:04.489079Z",
     "shell.execute_reply": "2021-11-15T12:00:04.488464Z",
     "shell.execute_reply.started": "2021-11-15T11:58:50.890291Z"
    },
    "papermill": {
     "duration": 0.316536,
     "end_time": "2021-11-15T12:00:04.489235",
     "exception": false,
     "start_time": "2021-11-15T12:00:04.172699",
     "status": "completed"
    },
    "tags": []
   },
   "outputs": [
    {
     "name": "stderr",
     "output_type": "stream",
     "text": [
      "/opt/conda/lib/python3.7/site-packages/seaborn/_decorators.py:43: FutureWarning: Pass the following variable as a keyword arg: x. From version 0.12, the only valid positional argument will be `data`, and passing other arguments without an explicit keyword will result in an error or misinterpretation.\n",
      "  FutureWarning\n"
     ]
    },
    {
     "data": {
      "image/png": "[encoded data removed]",
      "text/plain": [
       "<Figure size 720x432 with 1 Axes>"
      ]
     },
     "metadata": {
      "needs_background": "light"
     },
     "output_type": "display_data"
    }
   ],
   "source": [
    "#visualize team best bowler country\n",
    "plt.figure(figsize = (10,6))\n",
    "chart = sns.countplot(df['best_bowler_country'])\n",
    "chart.set_xticklabels(chart.get_xticklabels(), rotation = 45)\n",
    "plt.title(\"Team of Best Bowler\")\n",
    "plt.show()"
   ]
  },
  {
   "cell_type": "code",
   "execution_count": 39,
   "id": "ba9f3315",
   "metadata": {
    "execution": {
     "iopub.execute_input": "2021-11-15T12:00:04.621224Z",
     "iopub.status.busy": "2021-11-15T12:00:04.614768Z",
     "iopub.status.idle": "2021-11-15T12:00:04.624834Z",
     "shell.execute_reply": "2021-11-15T12:00:04.625268Z",
     "shell.execute_reply.started": "2021-11-15T11:58:51.147877Z"
    },
    "papermill": {
     "duration": 0.076325,
     "end_time": "2021-11-15T12:00:04.625476",
     "exception": false,
     "start_time": "2021-11-15T12:00:04.549151",
     "status": "completed"
    },
    "tags": []
   },
   "outputs": [],
   "source": [
    "#group team best bowler & target achievement\n",
    "team_achieved = df.groupby(['best_bowler_country', 'target_achieved']).size().reset_index(name = 'Count')"
   ]
  },
  {
   "cell_type": "code",
   "execution_count": 40,
   "id": "4411a959",
   "metadata": {
    "execution": {
     "iopub.execute_input": "2021-11-15T12:00:04.749680Z",
     "iopub.status.busy": "2021-11-15T12:00:04.748415Z",
     "iopub.status.idle": "2021-11-15T12:00:05.104537Z",
     "shell.execute_reply": "2021-11-15T12:00:05.103392Z",
     "shell.execute_reply.started": "2021-11-15T11:58:51.158744Z"
    },
    "papermill": {
     "duration": 0.419658,
     "end_time": "2021-11-15T12:00:05.104737",
     "exception": false,
     "start_time": "2021-11-15T12:00:04.685079",
     "status": "completed"
    },
    "tags": []
   },
   "outputs": [
    {
     "data": {
      "image/png": "[encoded data removed]",
      "text/plain": [
       "<Figure size 720x432 with 1 Axes>"
      ]
     },
     "metadata": {
      "needs_background": "light"
     },
     "output_type": "display_data"
    }
   ],
   "source": [
    "#visualize team best bowler ~ target achieved\n",
    "plt.figure(figsize = (10,6))\n",
    "chart = sns.barplot(data = team_achieved, x = 'best_bowler_country', y = 'Count', hue = 'target_achieved', palette = 'Set1')\n",
    "chart.set_xticklabels(chart.get_xticklabels(), rotation = 45)\n",
    "plt.title(\"Team Best Bowler ~ Achievement\")\n",
    "plt.legend(bbox_to_anchor = (1.01, 1), borderaxespad = 0)\n",
    "plt.show()"
   ]
  },
  {
   "cell_type": "code",
   "execution_count": 41,
   "id": "b4a8c725",
   "metadata": {
    "execution": {
     "iopub.execute_input": "2021-11-15T12:00:05.235433Z",
     "iopub.status.busy": "2021-11-15T12:00:05.233157Z",
     "iopub.status.idle": "2021-11-15T12:00:05.403555Z",
     "shell.execute_reply": "2021-11-15T12:00:05.404097Z",
     "shell.execute_reply.started": "2021-11-15T11:58:51.516792Z"
    },
    "papermill": {
     "duration": 0.236098,
     "end_time": "2021-11-15T12:00:05.404300",
     "exception": false,
     "start_time": "2021-11-15T12:00:05.168202",
     "status": "completed"
    },
    "tags": []
   },
   "outputs": [
    {
     "name": "stderr",
     "output_type": "stream",
     "text": [
      "/opt/conda/lib/python3.7/site-packages/seaborn/_decorators.py:43: FutureWarning: Pass the following variable as a keyword arg: x. From version 0.12, the only valid positional argument will be `data`, and passing other arguments without an explicit keyword will result in an error or misinterpretation.\n",
      "  FutureWarning\n"
     ]
    },
    {
     "data": {
      "image/png": "[encoded data removed]",
      "text/plain": [
       "<Figure size 576x432 with 1 Axes>"
      ]
     },
     "metadata": {
      "needs_background": "light"
     },
     "output_type": "display_data"
    }
   ],
   "source": [
    "#visualize batting hand\n",
    "plt.figure(figsize = (8,6))\n",
    "sns.countplot(df['batting_hand'], palette = 'Set2')\n",
    "plt.title(\"Batting Hand of Best Bowler\")\n",
    "plt.show()"
   ]
  },
  {
   "cell_type": "code",
   "execution_count": 42,
   "id": "ea971c49",
   "metadata": {
    "execution": {
     "iopub.execute_input": "2021-11-15T12:00:05.546164Z",
     "iopub.status.busy": "2021-11-15T12:00:05.545074Z",
     "iopub.status.idle": "2021-11-15T12:00:05.547363Z",
     "shell.execute_reply": "2021-11-15T12:00:05.548250Z",
     "shell.execute_reply.started": "2021-11-15T11:58:51.693856Z"
    },
    "papermill": {
     "duration": 0.078141,
     "end_time": "2021-11-15T12:00:05.548494",
     "exception": false,
     "start_time": "2021-11-15T12:00:05.470353",
     "status": "completed"
    },
    "tags": []
   },
   "outputs": [],
   "source": [
    "#group batting hand & target achievement\n",
    "batting_achieved = df.groupby(['batting_hand', 'target_achieved']).size().reset_index(name = 'Count')"
   ]
  },
  {
   "cell_type": "code",
   "execution_count": 43,
   "id": "c2ad10f4",
   "metadata": {
    "execution": {
     "iopub.execute_input": "2021-11-15T12:00:05.709134Z",
     "iopub.status.busy": "2021-11-15T12:00:05.678304Z",
     "iopub.status.idle": "2021-11-15T12:00:05.905012Z",
     "shell.execute_reply": "2021-11-15T12:00:05.904291Z",
     "shell.execute_reply.started": "2021-11-15T11:58:51.704320Z"
    },
    "papermill": {
     "duration": 0.293526,
     "end_time": "2021-11-15T12:00:05.905181",
     "exception": false,
     "start_time": "2021-11-15T12:00:05.611655",
     "status": "completed"
    },
    "tags": []
   },
   "outputs": [
    {
     "data": {
      "image/png": "[encoded data removed]",
      "text/plain": [
       "<Figure size 576x432 with 1 Axes>"
      ]
     },
     "metadata": {
      "needs_background": "light"
     },
     "output_type": "display_data"
    }
   ],
   "source": [
    "#visualize batting hand ~ target achieved\n",
    "plt.figure(figsize = (8,6))\n",
    "sns.barplot(data = batting_achieved, x = 'batting_hand', y = 'Count', hue = 'target_achieved')\n",
    "plt.title(\"Batting Hand ~ Achievement\")\n",
    "plt.legend(bbox_to_anchor = (1.01, 1), borderaxespad = 0)\n",
    "plt.show()"
   ]
  },
  {
   "cell_type": "code",
   "execution_count": 44,
   "id": "ea854d14",
   "metadata": {
    "execution": {
     "iopub.execute_input": "2021-11-15T12:00:06.040010Z",
     "iopub.status.busy": "2021-11-15T12:00:06.039329Z",
     "iopub.status.idle": "2021-11-15T12:00:06.287287Z",
     "shell.execute_reply": "2021-11-15T12:00:06.286685Z",
     "shell.execute_reply.started": "2021-11-15T11:58:51.940792Z"
    },
    "papermill": {
     "duration": 0.315502,
     "end_time": "2021-11-15T12:00:06.287450",
     "exception": false,
     "start_time": "2021-11-15T12:00:05.971948",
     "status": "completed"
    },
    "tags": []
   },
   "outputs": [
    {
     "name": "stderr",
     "output_type": "stream",
     "text": [
      "/opt/conda/lib/python3.7/site-packages/seaborn/_decorators.py:43: FutureWarning: Pass the following variable as a keyword arg: x. From version 0.12, the only valid positional argument will be `data`, and passing other arguments without an explicit keyword will result in an error or misinterpretation.\n",
      "  FutureWarning\n"
     ]
    },
    {
     "data": {
      "image/png": "[encoded data removed]",
      "text/plain": [
       "<Figure size 720x432 with 1 Axes>"
      ]
     },
     "metadata": {
      "needs_background": "light"
     },
     "output_type": "display_data"
    }
   ],
   "source": [
    "#visualize best batter team\n",
    "plt.figure(figsize = (10,6))\n",
    "chart = sns.countplot(df['best_batter_team'], palette = 'Set1')\n",
    "chart.set_xticklabels(chart.get_xticklabels(), rotation = 45)\n",
    "plt.title(\"Team of Best Batter\")\n",
    "plt.show()"
   ]
  },
  {
   "cell_type": "code",
   "execution_count": 45,
   "id": "3169ef04",
   "metadata": {
    "execution": {
     "iopub.execute_input": "2021-11-15T12:00:06.426085Z",
     "iopub.status.busy": "2021-11-15T12:00:06.425332Z",
     "iopub.status.idle": "2021-11-15T12:00:06.431846Z",
     "shell.execute_reply": "2021-11-15T12:00:06.431233Z",
     "shell.execute_reply.started": "2021-11-15T11:58:52.194287Z"
    },
    "papermill": {
     "duration": 0.07936,
     "end_time": "2021-11-15T12:00:06.432003",
     "exception": false,
     "start_time": "2021-11-15T12:00:06.352643",
     "status": "completed"
    },
    "tags": []
   },
   "outputs": [],
   "source": [
    "#group best batter team & target achievement\n",
    "batter_achieved = df.groupby(['best_batter_team', 'target_achieved']).size().reset_index(name = 'Count')"
   ]
  },
  {
   "cell_type": "code",
   "execution_count": 46,
   "id": "1104c2c2",
   "metadata": {
    "execution": {
     "iopub.execute_input": "2021-11-15T12:00:06.610413Z",
     "iopub.status.busy": "2021-11-15T12:00:06.601663Z",
     "iopub.status.idle": "2021-11-15T12:00:06.976464Z",
     "shell.execute_reply": "2021-11-15T12:00:06.975815Z",
     "shell.execute_reply.started": "2021-11-15T11:58:52.207908Z"
    },
    "papermill": {
     "duration": 0.480086,
     "end_time": "2021-11-15T12:00:06.976621",
     "exception": false,
     "start_time": "2021-11-15T12:00:06.496535",
     "status": "completed"
    },
    "tags": []
   },
   "outputs": [
    {
     "data": {
      "image/png": "[encoded data removed]",
      "text/plain": [
       "<Figure size 720x432 with 1 Axes>"
      ]
     },
     "metadata": {
      "needs_background": "light"
     },
     "output_type": "display_data"
    }
   ],
   "source": [
    "#visualize best batter team ~ target achieved\n",
    "plt.figure(figsize = (10,6))\n",
    "chart = sns.barplot(data = batter_achieved, x = 'best_batter_team', y = 'Count', hue = 'target_achieved', palette = 'Set2')\n",
    "chart.set_xticklabels(chart.get_xticklabels(), rotation = 45)\n",
    "plt.title(\"Best Batter Team ~ Achievement\")\n",
    "plt.show()"
   ]
  },
  {
   "cell_type": "code",
   "execution_count": 47,
   "id": "03ba0371",
   "metadata": {
    "execution": {
     "iopub.execute_input": "2021-11-15T12:00:07.128693Z",
     "iopub.status.busy": "2021-11-15T12:00:07.128003Z",
     "iopub.status.idle": "2021-11-15T12:00:07.368169Z",
     "shell.execute_reply": "2021-11-15T12:00:07.367569Z",
     "shell.execute_reply.started": "2021-11-15T11:58:52.624352Z"
    },
    "papermill": {
     "duration": 0.324703,
     "end_time": "2021-11-15T12:00:07.368334",
     "exception": false,
     "start_time": "2021-11-15T12:00:07.043631",
     "status": "completed"
    },
    "tags": []
   },
   "outputs": [
    {
     "name": "stderr",
     "output_type": "stream",
     "text": [
      "/opt/conda/lib/python3.7/site-packages/seaborn/_decorators.py:43: FutureWarning: Pass the following variable as a keyword arg: x. From version 0.12, the only valid positional argument will be `data`, and passing other arguments without an explicit keyword will result in an error or misinterpretation.\n",
      "  FutureWarning\n"
     ]
    },
    {
     "data": {
      "image/png": "[encoded data removed]",
      "text/plain": [
       "<Figure size 720x432 with 1 Axes>"
      ]
     },
     "metadata": {
      "needs_background": "light"
     },
     "output_type": "display_data"
    }
   ],
   "source": [
    "#visualize winner\n",
    "plt.figure(figsize = (10,6))\n",
    "chart = sns.countplot(df['Winner'])\n",
    "chart.set_xticklabels(chart.get_xticklabels(), rotation = 45)\n",
    "plt.title(\"Winner of match\")\n",
    "plt.show()"
   ]
  },
  {
   "cell_type": "code",
   "execution_count": 48,
   "id": "e7a94653",
   "metadata": {
    "execution": {
     "iopub.execute_input": "2021-11-15T12:00:07.514939Z",
     "iopub.status.busy": "2021-11-15T12:00:07.514168Z",
     "iopub.status.idle": "2021-11-15T12:00:07.521299Z",
     "shell.execute_reply": "2021-11-15T12:00:07.521815Z",
     "shell.execute_reply.started": "2021-11-15T11:58:52.865902Z"
    },
    "papermill": {
     "duration": 0.085582,
     "end_time": "2021-11-15T12:00:07.522036",
     "exception": false,
     "start_time": "2021-11-15T12:00:07.436454",
     "status": "completed"
    },
    "tags": []
   },
   "outputs": [],
   "source": [
    "#group winner & target achievement\n",
    "winner_achieved = df.groupby(['Winner', 'target_achieved']).size().reset_index(name = 'Count')"
   ]
  },
  {
   "cell_type": "code",
   "execution_count": 49,
   "id": "7c0eaac7",
   "metadata": {
    "execution": {
     "iopub.execute_input": "2021-11-15T12:00:07.667595Z",
     "iopub.status.busy": "2021-11-15T12:00:07.666630Z",
     "iopub.status.idle": "2021-11-15T12:00:08.055849Z",
     "shell.execute_reply": "2021-11-15T12:00:08.055122Z",
     "shell.execute_reply.started": "2021-11-15T11:58:52.875986Z"
    },
    "papermill": {
     "duration": 0.459082,
     "end_time": "2021-11-15T12:00:08.056021",
     "exception": false,
     "start_time": "2021-11-15T12:00:07.596939",
     "status": "completed"
    },
    "tags": []
   },
   "outputs": [
    {
     "data": {
      "image/png": "[encoded data removed]",
      "text/plain": [
       "<Figure size 720x432 with 1 Axes>"
      ]
     },
     "metadata": {
      "needs_background": "light"
     },
     "output_type": "display_data"
    }
   ],
   "source": [
    "#visualize best batter team ~ target achieved\n",
    "plt.figure(figsize = (10,6))\n",
    "chart = sns.barplot(data = winner_achieved, x = 'Winner', y = 'Count', hue = 'target_achieved', palette = 'Set1')\n",
    "chart.set_xticklabels(chart.get_xticklabels(), rotation = 45)\n",
    "plt.title(\"Winner ~ Achievement\")\n",
    "plt.show()"
   ]
  },
  {
   "cell_type": "code",
   "execution_count": 50,
   "id": "6a29877f",
   "metadata": {
    "execution": {
     "iopub.execute_input": "2021-11-15T12:00:08.203290Z",
     "iopub.status.busy": "2021-11-15T12:00:08.201261Z",
     "iopub.status.idle": "2021-11-15T12:00:08.313623Z",
     "shell.execute_reply": "2021-11-15T12:00:08.313108Z",
     "shell.execute_reply.started": "2021-11-15T11:58:53.264011Z"
    },
    "papermill": {
     "duration": 0.188718,
     "end_time": "2021-11-15T12:00:08.313804",
     "exception": false,
     "start_time": "2021-11-15T12:00:08.125086",
     "status": "completed"
    },
    "tags": []
   },
   "outputs": [
    {
     "data": {
      "image/png": "[encoded data removed]",
      "text/plain": [
       "<Figure size 576x432 with 1 Axes>"
      ]
     },
     "metadata": {},
     "output_type": "display_data"
    }
   ],
   "source": [
    "#visualize achievement status\n",
    "plt.figure(figsize = (8,6))\n",
    "status = [np.count_nonzero(df['target_achieved'] == 'Achieved'),\n",
    "         np.count_nonzero(df['target_achieved'] == 'Not Achieved')]\n",
    "activities = ['Achieved', 'Not Achieved']\n",
    "plt.pie(status, labels = activities, startangle = 100, radius = 1, autopct = '%1.f%%', shadow = True)\n",
    "plt.title(\"Achievement Status\")\n",
    "plt.show()"
   ]
  },
  {
   "cell_type": "markdown",
   "id": "3db9a866",
   "metadata": {
    "papermill": {
     "duration": 0.070216,
     "end_time": "2021-11-15T12:00:08.451678",
     "exception": false,
     "start_time": "2021-11-15T12:00:08.381462",
     "status": "completed"
    },
    "tags": []
   },
   "source": [
    "# Naive Bayes Model"
   ]
  },
  {
   "cell_type": "code",
   "execution_count": 51,
   "id": "2b77746a",
   "metadata": {
    "execution": {
     "iopub.execute_input": "2021-11-15T12:00:08.609769Z",
     "iopub.status.busy": "2021-11-15T12:00:08.603605Z",
     "iopub.status.idle": "2021-11-15T12:00:08.634615Z",
     "shell.execute_reply": "2021-11-15T12:00:08.635096Z",
     "shell.execute_reply.started": "2021-11-15T11:58:53.534343Z"
    },
    "papermill": {
     "duration": 0.114388,
     "end_time": "2021-11-15T12:00:08.635303",
     "exception": false,
     "start_time": "2021-11-15T12:00:08.520915",
     "status": "completed"
    },
    "tags": []
   },
   "outputs": [
    {
     "data": {
      "text/html": [
       "<div>\n",
       "<style scoped>\n",
       "    .dataframe tbody tr th:only-of-type {\n",
       "        vertical-align: middle;\n",
       "    }\n",
       "\n",
       "    .dataframe tbody tr th {\n",
       "        vertical-align: top;\n",
       "    }\n",
       "\n",
       "    .dataframe thead th {\n",
       "        text-align: right;\n",
       "    }\n",
       "</style>\n",
       "<table border=\"1\" class=\"dataframe\">\n",
       "  <thead>\n",
       "    <tr style=\"text-align: right;\">\n",
       "      <th></th>\n",
       "      <th>team_1</th>\n",
       "      <th>team_2</th>\n",
       "      <th>stage</th>\n",
       "      <th>Winner_toss</th>\n",
       "      <th>Toss_descision</th>\n",
       "      <th>time</th>\n",
       "      <th>venue</th>\n",
       "      <th>avg_temperature</th>\n",
       "      <th>best_bowler</th>\n",
       "      <th>bowling_arm</th>\n",
       "      <th>...</th>\n",
       "      <th>best_bowler_country</th>\n",
       "      <th>best_batter</th>\n",
       "      <th>batting_hand</th>\n",
       "      <th>high_indvidual_scores</th>\n",
       "      <th>strike_rate</th>\n",
       "      <th>best_batter_team</th>\n",
       "      <th>target</th>\n",
       "      <th>target_achieved</th>\n",
       "      <th>Player_of_the_match</th>\n",
       "      <th>Winner</th>\n",
       "    </tr>\n",
       "    <tr>\n",
       "      <th>Match Number</th>\n",
       "      <th></th>\n",
       "      <th></th>\n",
       "      <th></th>\n",
       "      <th></th>\n",
       "      <th></th>\n",
       "      <th></th>\n",
       "      <th></th>\n",
       "      <th></th>\n",
       "      <th></th>\n",
       "      <th></th>\n",
       "      <th></th>\n",
       "      <th></th>\n",
       "      <th></th>\n",
       "      <th></th>\n",
       "      <th></th>\n",
       "      <th></th>\n",
       "      <th></th>\n",
       "      <th></th>\n",
       "      <th></th>\n",
       "      <th></th>\n",
       "      <th></th>\n",
       "    </tr>\n",
       "  </thead>\n",
       "  <tbody>\n",
       "    <tr>\n",
       "      <th>Match_1</th>\n",
       "      <td>1</td>\n",
       "      <td>10</td>\n",
       "      <td>1</td>\n",
       "      <td>1</td>\n",
       "      <td>1</td>\n",
       "      <td>0</td>\n",
       "      <td>0</td>\n",
       "      <td>5</td>\n",
       "      <td>9</td>\n",
       "      <td>1</td>\n",
       "      <td>...</td>\n",
       "      <td>1</td>\n",
       "      <td>1</td>\n",
       "      <td>1</td>\n",
       "      <td>4</td>\n",
       "      <td>5</td>\n",
       "      <td>8</td>\n",
       "      <td>6</td>\n",
       "      <td>1</td>\n",
       "      <td>12</td>\n",
       "      <td>1</td>\n",
       "    </tr>\n",
       "    <tr>\n",
       "      <th>Match_2</th>\n",
       "      <td>2</td>\n",
       "      <td>12</td>\n",
       "      <td>1</td>\n",
       "      <td>3</td>\n",
       "      <td>1</td>\n",
       "      <td>1</td>\n",
       "      <td>1</td>\n",
       "      <td>7</td>\n",
       "      <td>1</td>\n",
       "      <td>1</td>\n",
       "      <td>...</td>\n",
       "      <td>3</td>\n",
       "      <td>9</td>\n",
       "      <td>1</td>\n",
       "      <td>0</td>\n",
       "      <td>3</td>\n",
       "      <td>3</td>\n",
       "      <td>0</td>\n",
       "      <td>1</td>\n",
       "      <td>17</td>\n",
       "      <td>2</td>\n",
       "    </tr>\n",
       "    <tr>\n",
       "      <th>Match_3</th>\n",
       "      <td>8</td>\n",
       "      <td>2</td>\n",
       "      <td>1</td>\n",
       "      <td>9</td>\n",
       "      <td>1</td>\n",
       "      <td>0</td>\n",
       "      <td>2</td>\n",
       "      <td>8</td>\n",
       "      <td>19</td>\n",
       "      <td>0</td>\n",
       "      <td>...</td>\n",
       "      <td>2</td>\n",
       "      <td>3</td>\n",
       "      <td>0</td>\n",
       "      <td>21</td>\n",
       "      <td>25</td>\n",
       "      <td>9</td>\n",
       "      <td>21</td>\n",
       "      <td>1</td>\n",
       "      <td>3</td>\n",
       "      <td>8</td>\n",
       "    </tr>\n",
       "    <tr>\n",
       "      <th>Match_4</th>\n",
       "      <td>6</td>\n",
       "      <td>4</td>\n",
       "      <td>1</td>\n",
       "      <td>7</td>\n",
       "      <td>1</td>\n",
       "      <td>1</td>\n",
       "      <td>1</td>\n",
       "      <td>8</td>\n",
       "      <td>18</td>\n",
       "      <td>0</td>\n",
       "      <td>...</td>\n",
       "      <td>7</td>\n",
       "      <td>16</td>\n",
       "      <td>1</td>\n",
       "      <td>20</td>\n",
       "      <td>11</td>\n",
       "      <td>6</td>\n",
       "      <td>15</td>\n",
       "      <td>1</td>\n",
       "      <td>26</td>\n",
       "      <td>6</td>\n",
       "    </tr>\n",
       "    <tr>\n",
       "      <th>Match_5</th>\n",
       "      <td>0</td>\n",
       "      <td>9</td>\n",
       "      <td>1</td>\n",
       "      <td>0</td>\n",
       "      <td>0</td>\n",
       "      <td>1</td>\n",
       "      <td>2</td>\n",
       "      <td>7</td>\n",
       "      <td>13</td>\n",
       "      <td>1</td>\n",
       "      <td>...</td>\n",
       "      <td>0</td>\n",
       "      <td>17</td>\n",
       "      <td>0</td>\n",
       "      <td>11</td>\n",
       "      <td>27</td>\n",
       "      <td>0</td>\n",
       "      <td>25</td>\n",
       "      <td>0</td>\n",
       "      <td>19</td>\n",
       "      <td>0</td>\n",
       "    </tr>\n",
       "  </tbody>\n",
       "</table>\n",
       "<p>5 rows × 23 columns</p>\n",
       "</div>"
      ],
      "text/plain": [
       "              team_1  team_2  stage  Winner_toss  Toss_descision  time  venue  \\\n",
       "Match Number                                                                    \n",
       "Match_1            1      10      1            1               1     0      0   \n",
       "Match_2            2      12      1            3               1     1      1   \n",
       "Match_3            8       2      1            9               1     0      2   \n",
       "Match_4            6       4      1            7               1     1      1   \n",
       "Match_5            0       9      1            0               0     1      2   \n",
       "\n",
       "              avg_temperature  best_bowler  bowling_arm  ...  \\\n",
       "Match Number                                             ...   \n",
       "Match_1                     5            9            1  ...   \n",
       "Match_2                     7            1            1  ...   \n",
       "Match_3                     8           19            0  ...   \n",
       "Match_4                     8           18            0  ...   \n",
       "Match_5                     7           13            1  ...   \n",
       "\n",
       "              best_bowler_country  best_batter  batting_hand  \\\n",
       "Match Number                                                   \n",
       "Match_1                         1            1             1   \n",
       "Match_2                         3            9             1   \n",
       "Match_3                         2            3             0   \n",
       "Match_4                         7           16             1   \n",
       "Match_5                         0           17             0   \n",
       "\n",
       "              high_indvidual_scores  strike_rate  best_batter_team  target  \\\n",
       "Match Number                                                                 \n",
       "Match_1                           4            5                 8       6   \n",
       "Match_2                           0            3                 3       0   \n",
       "Match_3                          21           25                 9      21   \n",
       "Match_4                          20           11                 6      15   \n",
       "Match_5                          11           27                 0      25   \n",
       "\n",
       "              target_achieved  Player_of_the_match  Winner  \n",
       "Match Number                                                \n",
       "Match_1                     1                   12       1  \n",
       "Match_2                     1                   17       2  \n",
       "Match_3                     1                    3       8  \n",
       "Match_4                     1                   26       6  \n",
       "Match_5                     0                   19       0  \n",
       "\n",
       "[5 rows x 23 columns]"
      ]
     },
     "execution_count": 51,
     "metadata": {},
     "output_type": "execute_result"
    }
   ],
   "source": [
    "#handling categorical data\n",
    "for i in df.columns.tolist():\n",
    "    df[i] = df[i].astype('category').cat.codes\n",
    "\n",
    "df.head()"
   ]
  },
  {
   "cell_type": "code",
   "execution_count": 52,
   "id": "b58183d9",
   "metadata": {
    "execution": {
     "iopub.execute_input": "2021-11-15T12:00:08.776763Z",
     "iopub.status.busy": "2021-11-15T12:00:08.775750Z",
     "iopub.status.idle": "2021-11-15T12:00:08.788526Z",
     "shell.execute_reply": "2021-11-15T12:00:08.787683Z",
     "shell.execute_reply.started": "2021-11-15T11:58:53.575908Z"
    },
    "papermill": {
     "duration": 0.085708,
     "end_time": "2021-11-15T12:00:08.788812",
     "exception": false,
     "start_time": "2021-11-15T12:00:08.703104",
     "status": "completed"
    },
    "tags": []
   },
   "outputs": [
    {
     "name": "stdout",
     "output_type": "stream",
     "text": [
      "(23, 22)\n",
      "(23,)\n",
      "(10, 22)\n",
      "(10,)\n"
     ]
    }
   ],
   "source": [
    "#split data\n",
    "X = df.drop('target_achieved', axis = 1)\n",
    "y = df['target_achieved']\n",
    "X_train, X_test, y_train, y_test = train_test_split(X, y, test_size = 0.3, random_state = 0)\n",
    "print(X_train.shape)\n",
    "print(y_train.shape)\n",
    "print(X_test.shape)\n",
    "print(y_test.shape)"
   ]
  },
  {
   "cell_type": "code",
   "execution_count": 53,
   "id": "16542114",
   "metadata": {
    "execution": {
     "iopub.execute_input": "2021-11-15T12:00:08.934396Z",
     "iopub.status.busy": "2021-11-15T12:00:08.932764Z",
     "iopub.status.idle": "2021-11-15T12:00:08.946222Z",
     "shell.execute_reply": "2021-11-15T12:00:08.946675Z",
     "shell.execute_reply.started": "2021-11-15T11:58:53.588208Z"
    },
    "papermill": {
     "duration": 0.088449,
     "end_time": "2021-11-15T12:00:08.946913",
     "exception": false,
     "start_time": "2021-11-15T12:00:08.858464",
     "status": "completed"
    },
    "tags": []
   },
   "outputs": [
    {
     "name": "stdout",
     "output_type": "stream",
     "text": [
      "CPU times: user 2.42 ms, sys: 125 µs, total: 2.54 ms\n",
      "Wall time: 2.56 ms\n",
      "Accuracy Score :  80 %\n"
     ]
    }
   ],
   "source": [
    "#build model\n",
    "nb = GaussianNB()\n",
    "%time nb.fit(X_train, y_train)\n",
    "accuracy = nb.score(X_test, y_test)\n",
    "print('Accuracy Score : ', int(accuracy * 100), '%')"
   ]
  },
  {
   "cell_type": "code",
   "execution_count": 54,
   "id": "17b722db",
   "metadata": {
    "execution": {
     "iopub.execute_input": "2021-11-15T12:00:09.092944Z",
     "iopub.status.busy": "2021-11-15T12:00:09.092255Z",
     "iopub.status.idle": "2021-11-15T12:00:09.094959Z",
     "shell.execute_reply": "2021-11-15T12:00:09.095639Z",
     "shell.execute_reply.started": "2021-11-15T11:58:53.603840Z"
    },
    "papermill": {
     "duration": 0.080539,
     "end_time": "2021-11-15T12:00:09.095905",
     "exception": false,
     "start_time": "2021-11-15T12:00:09.015366",
     "status": "completed"
    },
    "tags": []
   },
   "outputs": [
    {
     "name": "stdout",
     "output_type": "stream",
     "text": [
      "[1 0 1 1 0 0 0 0 1 1]\n"
     ]
    }
   ],
   "source": [
    "#prediction\n",
    "y_pred = nb.predict(X_test)\n",
    "print(y_pred)"
   ]
  },
  {
   "cell_type": "code",
   "execution_count": 55,
   "id": "a453762b",
   "metadata": {
    "execution": {
     "iopub.execute_input": "2021-11-15T12:00:09.242830Z",
     "iopub.status.busy": "2021-11-15T12:00:09.242153Z",
     "iopub.status.idle": "2021-11-15T12:00:09.460086Z",
     "shell.execute_reply": "2021-11-15T12:00:09.460660Z",
     "shell.execute_reply.started": "2021-11-15T11:58:53.616457Z"
    },
    "papermill": {
     "duration": 0.293293,
     "end_time": "2021-11-15T12:00:09.460878",
     "exception": false,
     "start_time": "2021-11-15T12:00:09.167585",
     "status": "completed"
    },
    "tags": []
   },
   "outputs": [
    {
     "data": {
      "image/png": "[encoded data removed]",
      "text/plain": [
       "<Figure size 576x432 with 1 Axes>"
      ]
     },
     "metadata": {
      "needs_background": "light"
     },
     "output_type": "display_data"
    }
   ],
   "source": [
    "#visualize ROC Curve\n",
    "fpr, tpr, thresholds = metrics.roc_curve(y_test, y_pred)\n",
    "plt.figure(figsize = (8,6))\n",
    "plt.plot(fpr, tpr, linewidth=2)\n",
    "plt.plot([0,1], [0,1], 'k--' )\n",
    "plt.rcParams['font.size'] = 12\n",
    "plt.title('ROC curve for Gaussian Naive Bayes Classifier for Predicting Achievement Status')\n",
    "plt.xlabel('False Positive Rate (1 - Specificity)')\n",
    "plt.ylabel('True Positive Rate (Sensitivity)')\n",
    "plt.show()"
   ]
  },
  {
   "cell_type": "code",
   "execution_count": 56,
   "id": "94ea41c3",
   "metadata": {
    "execution": {
     "iopub.execute_input": "2021-11-15T12:00:09.612115Z",
     "iopub.status.busy": "2021-11-15T12:00:09.607348Z",
     "iopub.status.idle": "2021-11-15T12:00:09.614149Z",
     "shell.execute_reply": "2021-11-15T12:00:09.614609Z",
     "shell.execute_reply.started": "2021-11-15T11:58:53.848106Z"
    },
    "papermill": {
     "duration": 0.083119,
     "end_time": "2021-11-15T12:00:09.614821",
     "exception": false,
     "start_time": "2021-11-15T12:00:09.531702",
     "status": "completed"
    },
    "tags": []
   },
   "outputs": [
    {
     "name": "stdout",
     "output_type": "stream",
     "text": [
      "Mean Squared Error : 0.2\n",
      "Root Mean Squared Error : 0.4472135954999579\n"
     ]
    }
   ],
   "source": [
    "#check of MSE & RMSE \n",
    "mse = metrics.mean_squared_error(y_test, y_pred)\n",
    "print('Mean Squared Error : '+ str(mse))\n",
    "rmse = math.sqrt(metrics.mean_squared_error(y_test, y_pred))\n",
    "print('Root Mean Squared Error : '+ str(rmse))"
   ]
  },
  {
   "cell_type": "code",
   "execution_count": 57,
   "id": "e5d07208",
   "metadata": {
    "execution": {
     "iopub.execute_input": "2021-11-15T12:00:09.765881Z",
     "iopub.status.busy": "2021-11-15T12:00:09.765089Z",
     "iopub.status.idle": "2021-11-15T12:00:10.218561Z",
     "shell.execute_reply": "2021-11-15T12:00:10.217488Z",
     "shell.execute_reply.started": "2021-11-15T11:58:53.857066Z"
    },
    "papermill": {
     "duration": 0.530934,
     "end_time": "2021-11-15T12:00:10.218754",
     "exception": false,
     "start_time": "2021-11-15T12:00:09.687820",
     "status": "completed"
    },
    "tags": []
   },
   "outputs": [
    {
     "name": "stdout",
     "output_type": "stream",
     "text": [
      "[[3 0]\n",
      " [2 5]]\n"
     ]
    },
    {
     "data": {
      "image/png": "[encoded data removed]",
      "text/plain": [
       "<Figure size 576x432 with 2 Axes>"
      ]
     },
     "metadata": {
      "needs_background": "light"
     },
     "output_type": "display_data"
    }
   ],
   "source": [
    "#confusion matrix\n",
    "matrix = metrics.confusion_matrix(y_test, y_pred)\n",
    "print(matrix)\n",
    "\n",
    "#heatmap matrix\n",
    "plt.figure(figsize = (8,6))\n",
    "sns.heatmap(matrix, annot = True, fmt = '.0f', cmap = 'viridis')\n",
    "plt.title(\"Confusion Matrix\")\n",
    "plt.xlabel(\"Prediction\")\n",
    "plt.ylabel(\"Actual\")\n",
    "plt.show()"
   ]
  },
  {
   "cell_type": "code",
   "execution_count": 58,
   "id": "55b8d7c8",
   "metadata": {
    "execution": {
     "iopub.execute_input": "2021-11-15T12:00:10.372684Z",
     "iopub.status.busy": "2021-11-15T12:00:10.369061Z",
     "iopub.status.idle": "2021-11-15T12:00:10.416066Z",
     "shell.execute_reply": "2021-11-15T12:00:10.416525Z",
     "shell.execute_reply.started": "2021-11-15T11:58:54.110229Z"
    },
    "papermill": {
     "duration": 0.126222,
     "end_time": "2021-11-15T12:00:10.416734",
     "exception": false,
     "start_time": "2021-11-15T12:00:10.290512",
     "status": "completed"
    },
    "tags": []
   },
   "outputs": [
    {
     "name": "stdout",
     "output_type": "stream",
     "text": [
      "Cross-validation scores:[1.         0.66666667 0.66666667 0.5        1.         0.5\n",
      " 1.         0.5        0.5        1.        ]\n"
     ]
    },
    {
     "name": "stderr",
     "output_type": "stream",
     "text": [
      "/opt/conda/lib/python3.7/site-packages/sklearn/model_selection/_split.py:672: UserWarning: The least populated class in y has only 7 members, which is less than n_splits=10.\n",
      "  % (min_groups, self.n_splits)), UserWarning)\n"
     ]
    }
   ],
   "source": [
    "#check cross validation score\n",
    "cvs = cross_val_score(nb, X_train, y_train, cv = 10, scoring = 'accuracy')\n",
    "print('Cross-validation scores:{}'.format(cvs))"
   ]
  },
  {
   "cell_type": "code",
   "execution_count": 59,
   "id": "e305202b",
   "metadata": {
    "execution": {
     "iopub.execute_input": "2021-11-15T12:00:10.565542Z",
     "iopub.status.busy": "2021-11-15T12:00:10.563827Z",
     "iopub.status.idle": "2021-11-15T12:00:10.569006Z",
     "shell.execute_reply": "2021-11-15T12:00:10.568400Z",
     "shell.execute_reply.started": "2021-11-15T11:58:54.165850Z"
    },
    "papermill": {
     "duration": 0.080611,
     "end_time": "2021-11-15T12:00:10.569160",
     "exception": false,
     "start_time": "2021-11-15T12:00:10.488549",
     "status": "completed"
    },
    "tags": []
   },
   "outputs": [
    {
     "name": "stdout",
     "output_type": "stream",
     "text": [
      "Average cross-validation score: 0.73\n"
     ]
    }
   ],
   "source": [
    "#compute Average cross-validation score\n",
    "print('Average cross-validation score: {:.2f}'.format(cvs.mean()))"
   ]
  },
  {
   "cell_type": "code",
   "execution_count": 60,
   "id": "bf2ab90e",
   "metadata": {
    "execution": {
     "iopub.execute_input": "2021-11-15T12:00:10.725002Z",
     "iopub.status.busy": "2021-11-15T12:00:10.724218Z",
     "iopub.status.idle": "2021-11-15T12:00:10.732235Z",
     "shell.execute_reply": "2021-11-15T12:00:10.733100Z",
     "shell.execute_reply.started": "2021-11-15T11:58:54.173026Z"
    },
    "papermill": {
     "duration": 0.091634,
     "end_time": "2021-11-15T12:00:10.733420",
     "exception": false,
     "start_time": "2021-11-15T12:00:10.641786",
     "status": "completed"
    },
    "tags": []
   },
   "outputs": [
    {
     "name": "stdout",
     "output_type": "stream",
     "text": [
      "              precision    recall  f1-score   support\n",
      "\n",
      "           0       0.60      1.00      0.75         3\n",
      "           1       1.00      0.71      0.83         7\n",
      "\n",
      "    accuracy                           0.80        10\n",
      "   macro avg       0.80      0.86      0.79        10\n",
      "weighted avg       0.88      0.80      0.81        10\n",
      "\n"
     ]
    }
   ],
   "source": [
    "#classification report\n",
    "report = metrics.classification_report(y_test, y_pred)\n",
    "print(report)"
   ]
  }
 ],
 "metadata": {
  "kernelspec": {
   "display_name": "Python 3",
   "language": "python",
   "name": "python3"
  },
  "language_info": {
   "codemirror_mode": {
    "name": "ipython",
    "version": 3
   },
   "file_extension": ".py",
   "mimetype": "text/x-python",
   "name": "python",
   "nbconvert_exporter": "python",
   "pygments_lexer": "ipython3",
   "version": "3.7.10"
  },
  "papermill": {
   "default_parameters": {},
   "duration": 28.284142,
   "end_time": "2021-11-15T12:00:11.718961",
   "environment_variables": {},
   "exception": null,
   "input_path": "__notebook__.ipynb",
   "output_path": "__notebook__.ipynb",
   "parameters": {},
   "start_time": "2021-11-15T11:59:43.434819",
   "version": "2.3.3"
  }
 },
 "nbformat": 4,
 "nbformat_minor": 5
}
